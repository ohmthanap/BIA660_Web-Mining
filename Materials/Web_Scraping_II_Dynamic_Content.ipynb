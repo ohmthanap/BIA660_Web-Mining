{
 "cells": [
  {
   "cell_type": "markdown",
   "metadata": {},
   "source": [
    "# <center>Web Scraping II: Dyamic Web Pages by *Selenium* or *Playwright*</center>\n",
    "\n",
    "References:\n",
    "- http://selenium-python.readthedocs.io/getting-started.html\n",
    "- https://playwright.dev/python/docs/intro\n",
    "- https://oxylabs.io/blog/playwright-web-scraping"
   ]
  },
  {
   "cell_type": "markdown",
   "metadata": {},
   "source": [
    "## 1. Why Selenium or Playwright\n",
    "- So far, we have learned how to scrape **static** HTML pages using **Requests + BeautifulSoup**\n",
    "- However, if the web content relies on **javascript or AJAX** to build the content, this combination does not work\n",
    "  - Elements in a web page loaded **asynchronously**\n",
    "     * while requests.get(url) can only return the initial content\n",
    "     * you may need to wait for a while to get web content fully loaded\n",
    "  - You need to **interact with the page** to get some content loaded, e.g.\n",
    "     * scroll down to load more\n",
    "     * click a button like \"more\"\n",
    "     * fill a form\n",
    "- Example: https://www.quora.com/topic/Machine-Learning"
   ]
  },
  {
   "cell_type": "code",
   "execution_count": 1,
   "metadata": {},
   "outputs": [],
   "source": [
    "# Exercise 1.1. Scape quora page using requests+beautifulsoup\n",
    "\n",
    "# import requests package\n",
    "import requests                   \n",
    "\n",
    "# import BeautifulSoup from package bs4 (i.e. beautifulsoup4)\n",
    "from bs4 import BeautifulSoup   \n",
    "\n",
    "page = requests.get(\"https://www.quora.com/topic/Machine-Learning\")    # send a get request to the web page\n",
    "\n",
    "if page.status_code==200:      \n",
    "\n",
    "    soup = BeautifulSoup(page.content, 'html.parser')\n",
    "    \n",
    "    # get all questions\n",
    "    questions=soup.select(\"span.q-box.qu-userSelect--text\")\n",
    "    \n",
    "    for i, q in enumerate(questions):\n",
    "        print(i, q.get_text())\n",
    "        print(\"\\n\")\n",
    "    \n",
    "# Note: nothing is returned. Do you know why?"
   ]
  },
  {
   "cell_type": "markdown",
   "metadata": {},
   "source": [
    "## 2. Selenium WebDriver\n",
    "- Selenium WebDriver is one of the most popular tools for **Web UI Automation**\n",
    "- It uses the WebDriver protocol to control a web browser, like Chrome, Firefox or Safari. \n",
    "- Selenium is really useful when you have to perform action on a website such as:\n",
    "  - clicking on buttons\n",
    "  - filling forms\n",
    "  - scrolling\n",
    "  - taking a screenshot\n",
    "  - execute Javascript code.\n",
    "- Installation:\n",
    "  - Install Selenium package: \n",
    "    - pip install selenium\n",
    "  - Download a webdirver based on your browser: https://www.selenium.dev/documentation/en/getting_started_with_webdriver/third_party_drivers_and_plugins/. `Be sure to download the latest version!`\n",
    "  - Place the webdrive (unzip it if the download is zipped) in a folder, e.g. a sub-folder called `drive` under the current working folder. When call selenium, point the `executable_path` parameter to that folder, i.e. `driver = webdriver.Firefox(executable_path='driver/geckodriver')`\n",
    "  - Here we use **Firefox**"
   ]
  },
  {
   "cell_type": "markdown",
   "metadata": {},
   "source": [
    "## 3. Use of Selenium WebDriver\n",
    "\n",
    "### 3.1. **Navigating** (similar to beautifulsoup, but using different syntax)\n",
    "  * navigate to a link\n",
    "  * find elements by id, name, xpath, CSS selectors\n",
    "    * Check this for detailed syntax: https://selenium-python.readthedocs.io/locating-elements.html\n",
    "    * Note **find_element()** vs. **find_element<font color='red'>s</font>()**\n",
    "  \n",
    "|    | requests/BeautifulSoup | Selenium WebDriver |\n",
    "| -- |:------------------      |:-----------|\n",
    "| Navigate to a link |   `requests.get(url)`           | `driver.get(url)`    |\n",
    "| find elements  | `soup.select()` | `driver.find_element(By.ID, 'abc')`<br>`driver.find_element(By.CSS_SELECTOR,'div p#abc')`<br>`driver.find_element(By.XPATH, '//button')`<br> `driver.find_elements(By.CSS_SELECTOR,'div p#abc')`<br>`driver.find_elements(By.XPATH, '//button')`<br>|\n",
    "| get attributes of <br>element (say `p`) | `p.attrs` <br>    `p[\"class\"]` | `p.get_attribute(\"class\")` |\n",
    "| get tag name | `p.name` | `p.tag_name` |\n",
    "| get text | `p.get_text()` | `p.text` |\n",
    " "
   ]
  },
  {
   "cell_type": "code",
   "execution_count": 2,
   "metadata": {},
   "outputs": [
    {
     "data": {
      "text/plain": [
       "'4.18.1'"
      ]
     },
     "execution_count": 2,
     "metadata": {},
     "output_type": "execute_result"
    }
   ],
   "source": [
    "import selenium\n",
    "selenium.__version__"
   ]
  },
  {
   "cell_type": "code",
   "execution_count": 11,
   "metadata": {},
   "outputs": [],
   "source": [
    "# Exercise 3.1.1 Scrape using Selenium\n",
    "\n",
    "from selenium import webdriver\n",
    "from selenium.webdriver.common.by import By\n",
    "from selenium.webdriver.support.ui import WebDriverWait\n",
    "from selenium.webdriver.support import expected_conditions \n",
    "\n",
    "# for Chrome browser, do the following\n",
    "# (1) find the path where you save the webdriver \n",
    "executable_path = '/Users/thanapoomphatthanaphan/Education/Master Degree/Courses/BIA660_Web-Mining/Materials/chromedriver-mac-arm64'\n",
    "# (2) initialize the driver\n",
    "# driver = webdriver.Chrome(executable_path=executable_path)\n",
    "driver = webdriver.Chrome()\n",
    "# For new version, an argument executable_path is no longer available, we do not need to type it.\n",
    "\n",
    "# Selenium is built in in Safari\n",
    "# Make sure you enable \"Develop -> Allow Remote Automation\"\n",
    "#driver = webdriver.Safari()\n",
    "\n",
    "# send a request\n",
    "driver.get('https://www.quora.com/topic/Machine-Learning')\n",
    "\n",
    "# you should see a Firefox window open"
   ]
  },
  {
   "cell_type": "code",
   "execution_count": 12,
   "metadata": {},
   "outputs": [
    {
     "name": "stdout",
     "output_type": "stream",
     "text": [
      "0 Are you worried about the possible effects of artificial intelligence?\n",
      "\n",
      "\n",
      "1 How can you set yourself apart when everyone is doing machine learning or data science in 2019?\n",
      "\n",
      "\n",
      "2 What do you think of Noam Chomsky's view on modern AI?\n",
      "\n",
      "\n",
      "3 How secure will available jobs as a machine learning engineer be in 2026?\n",
      "\n",
      "\n",
      "4 Who is your favorite historical figure and why?\n",
      "\n",
      "\n",
      "5 Why is there a sudden craze of programmers with little math background jumping onto machine learning which requires a much different skill set than traditional programming?\n",
      "\n",
      "\n",
      "6 How are machine learning projects managed?\n",
      "\n",
      "\n",
      "7 What is a neural network in layman’s terms?\n",
      "\n",
      "\n",
      "8 Google's 'Bard' chatbot will compete with ChatGPT, what is special?\n",
      "\n",
      "\n",
      "9 Why can't Quora spot harassing posts before they're published? How hard would it be to train an AI to recognise the infantile sentiments and reject them?\n",
      "\n",
      "\n"
     ]
    }
   ],
   "source": [
    "# Exercise 3.1.2. Select truncated text using Selenium\n",
    "\n",
    "# get all questions using css selector\n",
    "questions=driver.find_elements(By.CSS_SELECTOR, \"span.q-box.qu-userSelect--text\")\n",
    "\n",
    "#questions=driver.find_elements(By.CSS_SELECTOR, \"span.q-box.qu-userSelect--text\")\n",
    "    \n",
    "    \n",
    "for i, q in enumerate(questions):\n",
    "    print(i, q.text)\n",
    "    print(\"\\n\")\n",
    "    \n",
    "# close the webdriver. The firefox window closes\n",
    "driver.quit()"
   ]
  },
  {
   "cell_type": "markdown",
   "metadata": {},
   "source": [
    "### 3.2. Simulates users' actions performed in a web browser. \n",
    "\n",
    "  - click a button\n",
    "    * e.g. submit_button.click()\n",
    "  - fill a form\n",
    "    * e.g. text_box.send_keys(\"enter some text\")\n",
    "  - scroll page down or up\n",
    "    * e.g. body.send_keys(Keys.PAGE_DOWN)\n",
    "  - move between windows and frames\n",
    "    * e.g. driver.switch_to_frame(\"frameName\")\n",
    "  ...\n",
    "  - For details see https://selenium-python.readthedocs.io/navigating.html"
   ]
  },
  {
   "cell_type": "code",
   "execution_count": 13,
   "metadata": {},
   "outputs": [
    {
     "ename": "StaleElementReferenceException",
     "evalue": "Message: stale element reference: stale element not found\n  (Session info: chrome=121.0.6167.184); For documentation on this error, please visit: https://www.selenium.dev/documentation/webdriver/troubleshooting/errors#stale-element-reference-exception\nStacktrace:\n0   chromedriver                        0x00000001045ee7dc chromedriver + 4040668\n1   chromedriver                        0x00000001045e69e0 chromedriver + 4008416\n2   chromedriver                        0x0000000104259870 chromedriver + 284784\n3   chromedriver                        0x000000010425e3c4 chromedriver + 304068\n4   chromedriver                        0x000000010425fefc chromedriver + 311036\n5   chromedriver                        0x000000010425ff94 chromedriver + 311188\n6   chromedriver                        0x000000010429ebd0 chromedriver + 568272\n7   chromedriver                        0x00000001042933b0 chromedriver + 521136\n8   chromedriver                        0x0000000104292ee8 chromedriver + 519912\n9   chromedriver                        0x00000001042d7048 chromedriver + 798792\n10  chromedriver                        0x000000010429174c chromedriver + 513868\n11  chromedriver                        0x0000000104292044 chromedriver + 516164\n12  chromedriver                        0x00000001045b3a04 chromedriver + 3799556\n13  chromedriver                        0x00000001045b7ee4 chromedriver + 3817188\n14  chromedriver                        0x000000010459c260 chromedriver + 3703392\n15  chromedriver                        0x00000001045b8a2c chromedriver + 3820076\n16  chromedriver                        0x000000010458f01c chromedriver + 3649564\n17  chromedriver                        0x00000001045d5e3c chromedriver + 3939900\n18  chromedriver                        0x00000001045d5fb4 chromedriver + 3940276\n19  chromedriver                        0x00000001045e6660 chromedriver + 4007520\n20  libsystem_pthread.dylib             0x0000000192b33fa8 _pthread_start + 148\n21  libsystem_pthread.dylib             0x0000000192b2eda0 thread_start + 8\n",
     "output_type": "error",
     "traceback": [
      "\u001b[0;31m---------------------------------------------------------------------------\u001b[0m",
      "\u001b[0;31mStaleElementReferenceException\u001b[0m            Traceback (most recent call last)",
      "\u001b[0;32m/var/folders/bk/66r4ld3j7hj8yg_49fhv2fr40000gn/T/ipykernel_84726/2389595597.py\u001b[0m in \u001b[0;36m<module>\u001b[0;34m\u001b[0m\n\u001b[1;32m     14\u001b[0m \u001b[0;34m\u001b[0m\u001b[0m\n\u001b[1;32m     15\u001b[0m \u001b[0;31m# click the link element\u001b[0m\u001b[0;34m\u001b[0m\u001b[0;34m\u001b[0m\u001b[0m\n\u001b[0;32m---> 16\u001b[0;31m \u001b[0mmore_link\u001b[0m\u001b[0;34m.\u001b[0m\u001b[0mclick\u001b[0m\u001b[0;34m(\u001b[0m\u001b[0;34m)\u001b[0m\u001b[0;34m\u001b[0m\u001b[0;34m\u001b[0m\u001b[0m\n\u001b[0m\u001b[1;32m     17\u001b[0m \u001b[0;34m\u001b[0m\u001b[0m\n\u001b[1;32m     18\u001b[0m \u001b[0;31m# Check firefox browser to see an expanded answer\u001b[0m\u001b[0;34m\u001b[0m\u001b[0;34m\u001b[0m\u001b[0m\n",
      "\u001b[0;32m~/opt/anaconda3/lib/python3.9/site-packages/selenium/webdriver/remote/webelement.py\u001b[0m in \u001b[0;36mclick\u001b[0;34m(self)\u001b[0m\n\u001b[1;32m     92\u001b[0m     \u001b[0;32mdef\u001b[0m \u001b[0mclick\u001b[0m\u001b[0;34m(\u001b[0m\u001b[0mself\u001b[0m\u001b[0;34m)\u001b[0m \u001b[0;34m->\u001b[0m \u001b[0;32mNone\u001b[0m\u001b[0;34m:\u001b[0m\u001b[0;34m\u001b[0m\u001b[0;34m\u001b[0m\u001b[0m\n\u001b[1;32m     93\u001b[0m         \u001b[0;34m\"\"\"Clicks the element.\"\"\"\u001b[0m\u001b[0;34m\u001b[0m\u001b[0;34m\u001b[0m\u001b[0m\n\u001b[0;32m---> 94\u001b[0;31m         \u001b[0mself\u001b[0m\u001b[0;34m.\u001b[0m\u001b[0m_execute\u001b[0m\u001b[0;34m(\u001b[0m\u001b[0mCommand\u001b[0m\u001b[0;34m.\u001b[0m\u001b[0mCLICK_ELEMENT\u001b[0m\u001b[0;34m)\u001b[0m\u001b[0;34m\u001b[0m\u001b[0;34m\u001b[0m\u001b[0m\n\u001b[0m\u001b[1;32m     95\u001b[0m \u001b[0;34m\u001b[0m\u001b[0m\n\u001b[1;32m     96\u001b[0m     \u001b[0;32mdef\u001b[0m \u001b[0msubmit\u001b[0m\u001b[0;34m(\u001b[0m\u001b[0mself\u001b[0m\u001b[0;34m)\u001b[0m\u001b[0;34m:\u001b[0m\u001b[0;34m\u001b[0m\u001b[0;34m\u001b[0m\u001b[0m\n",
      "\u001b[0;32m~/opt/anaconda3/lib/python3.9/site-packages/selenium/webdriver/remote/webelement.py\u001b[0m in \u001b[0;36m_execute\u001b[0;34m(self, command, params)\u001b[0m\n\u001b[1;32m    393\u001b[0m             \u001b[0mparams\u001b[0m \u001b[0;34m=\u001b[0m \u001b[0;34m{\u001b[0m\u001b[0;34m}\u001b[0m\u001b[0;34m\u001b[0m\u001b[0;34m\u001b[0m\u001b[0m\n\u001b[1;32m    394\u001b[0m         \u001b[0mparams\u001b[0m\u001b[0;34m[\u001b[0m\u001b[0;34m\"id\"\u001b[0m\u001b[0;34m]\u001b[0m \u001b[0;34m=\u001b[0m \u001b[0mself\u001b[0m\u001b[0;34m.\u001b[0m\u001b[0m_id\u001b[0m\u001b[0;34m\u001b[0m\u001b[0;34m\u001b[0m\u001b[0m\n\u001b[0;32m--> 395\u001b[0;31m         \u001b[0;32mreturn\u001b[0m \u001b[0mself\u001b[0m\u001b[0;34m.\u001b[0m\u001b[0m_parent\u001b[0m\u001b[0;34m.\u001b[0m\u001b[0mexecute\u001b[0m\u001b[0;34m(\u001b[0m\u001b[0mcommand\u001b[0m\u001b[0;34m,\u001b[0m \u001b[0mparams\u001b[0m\u001b[0;34m)\u001b[0m\u001b[0;34m\u001b[0m\u001b[0;34m\u001b[0m\u001b[0m\n\u001b[0m\u001b[1;32m    396\u001b[0m \u001b[0;34m\u001b[0m\u001b[0m\n\u001b[1;32m    397\u001b[0m     \u001b[0;32mdef\u001b[0m \u001b[0mfind_element\u001b[0m\u001b[0;34m(\u001b[0m\u001b[0mself\u001b[0m\u001b[0;34m,\u001b[0m \u001b[0mby\u001b[0m\u001b[0;34m=\u001b[0m\u001b[0mBy\u001b[0m\u001b[0;34m.\u001b[0m\u001b[0mID\u001b[0m\u001b[0;34m,\u001b[0m \u001b[0mvalue\u001b[0m\u001b[0;34m=\u001b[0m\u001b[0;32mNone\u001b[0m\u001b[0;34m)\u001b[0m \u001b[0;34m->\u001b[0m \u001b[0mWebElement\u001b[0m\u001b[0;34m:\u001b[0m\u001b[0;34m\u001b[0m\u001b[0;34m\u001b[0m\u001b[0m\n",
      "\u001b[0;32m~/opt/anaconda3/lib/python3.9/site-packages/selenium/webdriver/remote/webdriver.py\u001b[0m in \u001b[0;36mexecute\u001b[0;34m(self, driver_command, params)\u001b[0m\n\u001b[1;32m    345\u001b[0m         \u001b[0mresponse\u001b[0m \u001b[0;34m=\u001b[0m \u001b[0mself\u001b[0m\u001b[0;34m.\u001b[0m\u001b[0mcommand_executor\u001b[0m\u001b[0;34m.\u001b[0m\u001b[0mexecute\u001b[0m\u001b[0;34m(\u001b[0m\u001b[0mdriver_command\u001b[0m\u001b[0;34m,\u001b[0m \u001b[0mparams\u001b[0m\u001b[0;34m)\u001b[0m\u001b[0;34m\u001b[0m\u001b[0;34m\u001b[0m\u001b[0m\n\u001b[1;32m    346\u001b[0m         \u001b[0;32mif\u001b[0m \u001b[0mresponse\u001b[0m\u001b[0;34m:\u001b[0m\u001b[0;34m\u001b[0m\u001b[0;34m\u001b[0m\u001b[0m\n\u001b[0;32m--> 347\u001b[0;31m             \u001b[0mself\u001b[0m\u001b[0;34m.\u001b[0m\u001b[0merror_handler\u001b[0m\u001b[0;34m.\u001b[0m\u001b[0mcheck_response\u001b[0m\u001b[0;34m(\u001b[0m\u001b[0mresponse\u001b[0m\u001b[0;34m)\u001b[0m\u001b[0;34m\u001b[0m\u001b[0;34m\u001b[0m\u001b[0m\n\u001b[0m\u001b[1;32m    348\u001b[0m             \u001b[0mresponse\u001b[0m\u001b[0;34m[\u001b[0m\u001b[0;34m\"value\"\u001b[0m\u001b[0;34m]\u001b[0m \u001b[0;34m=\u001b[0m \u001b[0mself\u001b[0m\u001b[0;34m.\u001b[0m\u001b[0m_unwrap_value\u001b[0m\u001b[0;34m(\u001b[0m\u001b[0mresponse\u001b[0m\u001b[0;34m.\u001b[0m\u001b[0mget\u001b[0m\u001b[0;34m(\u001b[0m\u001b[0;34m\"value\"\u001b[0m\u001b[0;34m,\u001b[0m \u001b[0;32mNone\u001b[0m\u001b[0;34m)\u001b[0m\u001b[0;34m)\u001b[0m\u001b[0;34m\u001b[0m\u001b[0;34m\u001b[0m\u001b[0m\n\u001b[1;32m    349\u001b[0m             \u001b[0;32mreturn\u001b[0m \u001b[0mresponse\u001b[0m\u001b[0;34m\u001b[0m\u001b[0;34m\u001b[0m\u001b[0m\n",
      "\u001b[0;32m~/opt/anaconda3/lib/python3.9/site-packages/selenium/webdriver/remote/errorhandler.py\u001b[0m in \u001b[0;36mcheck_response\u001b[0;34m(self, response)\u001b[0m\n\u001b[1;32m    227\u001b[0m                 \u001b[0malert_text\u001b[0m \u001b[0;34m=\u001b[0m \u001b[0mvalue\u001b[0m\u001b[0;34m[\u001b[0m\u001b[0;34m\"alert\"\u001b[0m\u001b[0;34m]\u001b[0m\u001b[0;34m.\u001b[0m\u001b[0mget\u001b[0m\u001b[0;34m(\u001b[0m\u001b[0;34m\"text\"\u001b[0m\u001b[0;34m)\u001b[0m\u001b[0;34m\u001b[0m\u001b[0;34m\u001b[0m\u001b[0m\n\u001b[1;32m    228\u001b[0m             \u001b[0;32mraise\u001b[0m \u001b[0mexception_class\u001b[0m\u001b[0;34m(\u001b[0m\u001b[0mmessage\u001b[0m\u001b[0;34m,\u001b[0m \u001b[0mscreen\u001b[0m\u001b[0;34m,\u001b[0m \u001b[0mstacktrace\u001b[0m\u001b[0;34m,\u001b[0m \u001b[0malert_text\u001b[0m\u001b[0;34m)\u001b[0m  \u001b[0;31m# type: ignore[call-arg]  # mypy is not smart enough here\u001b[0m\u001b[0;34m\u001b[0m\u001b[0;34m\u001b[0m\u001b[0m\n\u001b[0;32m--> 229\u001b[0;31m         \u001b[0;32mraise\u001b[0m \u001b[0mexception_class\u001b[0m\u001b[0;34m(\u001b[0m\u001b[0mmessage\u001b[0m\u001b[0;34m,\u001b[0m \u001b[0mscreen\u001b[0m\u001b[0;34m,\u001b[0m \u001b[0mstacktrace\u001b[0m\u001b[0;34m)\u001b[0m\u001b[0;34m\u001b[0m\u001b[0;34m\u001b[0m\u001b[0m\n\u001b[0m",
      "\u001b[0;31mStaleElementReferenceException\u001b[0m: Message: stale element reference: stale element not found\n  (Session info: chrome=121.0.6167.184); For documentation on this error, please visit: https://www.selenium.dev/documentation/webdriver/troubleshooting/errors#stale-element-reference-exception\nStacktrace:\n0   chromedriver                        0x00000001045ee7dc chromedriver + 4040668\n1   chromedriver                        0x00000001045e69e0 chromedriver + 4008416\n2   chromedriver                        0x0000000104259870 chromedriver + 284784\n3   chromedriver                        0x000000010425e3c4 chromedriver + 304068\n4   chromedriver                        0x000000010425fefc chromedriver + 311036\n5   chromedriver                        0x000000010425ff94 chromedriver + 311188\n6   chromedriver                        0x000000010429ebd0 chromedriver + 568272\n7   chromedriver                        0x00000001042933b0 chromedriver + 521136\n8   chromedriver                        0x0000000104292ee8 chromedriver + 519912\n9   chromedriver                        0x00000001042d7048 chromedriver + 798792\n10  chromedriver                        0x000000010429174c chromedriver + 513868\n11  chromedriver                        0x0000000104292044 chromedriver + 516164\n12  chromedriver                        0x00000001045b3a04 chromedriver + 3799556\n13  chromedriver                        0x00000001045b7ee4 chromedriver + 3817188\n14  chromedriver                        0x000000010459c260 chromedriver + 3703392\n15  chromedriver                        0x00000001045b8a2c chromedriver + 3820076\n16  chromedriver                        0x000000010458f01c chromedriver + 3649564\n17  chromedriver                        0x00000001045d5e3c chromedriver + 3939900\n18  chromedriver                        0x00000001045d5fb4 chromedriver + 3940276\n19  chromedriver                        0x00000001045e6660 chromedriver + 4007520\n20  libsystem_pthread.dylib             0x0000000192b33fa8 _pthread_start + 148\n21  libsystem_pthread.dylib             0x0000000192b2eda0 thread_start + 8\n"
     ]
    }
   ],
   "source": [
    "# 3.2.1 Simulate \"click\"\n",
    "# Click \"more\" link to get full answer\n",
    "\n",
    "driver = webdriver.Chrome()\n",
    "\n",
    "#driver = webdriver.Safari()\n",
    "\n",
    "driver.get('https://www.quora.com/topic/Machine-Learning')\n",
    "\n",
    "driver.implicitly_wait(10)  # set implict wait\n",
    "\n",
    "# locate a \"more\" link by css selector\n",
    "more_link=driver.find_element(By.CSS_SELECTOR, \"div.q-text.qu-cursor--pointer.qt_read_more\")\n",
    "\n",
    "# click the link element\n",
    "more_link.click()\n",
    "\n",
    "# Check firefox browser to see an expanded answer\n"
   ]
  },
  {
   "cell_type": "code",
   "execution_count": 14,
   "metadata": {},
   "outputs": [],
   "source": [
    "driver.quit()"
   ]
  },
  {
   "cell_type": "code",
   "execution_count": 17,
   "metadata": {},
   "outputs": [
    {
     "name": "stdout",
     "output_type": "stream",
     "text": [
      "0 Are you worried about the possible effects of artificial intelligence?\n",
      "\n",
      "\n",
      "1 How can you set yourself apart when everyone is doing machine learning or data science in 2019?\n",
      "\n",
      "\n",
      "2 What do you think of Noam Chomsky's view on modern AI?\n",
      "\n",
      "\n",
      "3 How secure will available jobs as a machine learning engineer be in 2026?\n",
      "\n",
      "\n",
      "4 Who is your favorite historical figure and why?\n",
      "\n",
      "\n",
      "5 Why is there a sudden craze of programmers with little math background jumping onto machine learning which requires a much different skill set than traditional programming?\n",
      "\n",
      "\n",
      "6 How are machine learning projects managed?\n",
      "\n",
      "\n",
      "7 What is a neural network in layman’s terms?\n",
      "\n",
      "\n",
      "8 Google's 'Bard' chatbot will compete with ChatGPT, what is special?\n",
      "\n",
      "\n",
      "9 Why can't Quora spot harassing posts before they're published? How hard would it be to train an AI to recognise the infantile sentiments and reject them?\n",
      "\n",
      "\n",
      "10 Does being able to talk to a robot mean it thinks?\n",
      "\n",
      "\n",
      "11 Do you believe human art and design is about to crumble because of the introduction of artificial intelligence?\n",
      "\n",
      "\n",
      "12 What is mirror descent and how is it different from gradient descent?\n",
      "\n",
      "\n",
      "13 What are the dangers of using machine learning libraries without any understanding?\n",
      "\n",
      "\n",
      "14 Who is the most influential person in the history of Machine Learning?\n",
      "\n",
      "\n",
      "15 What are prerequisites to start learning machine learning?\n",
      "\n",
      "\n",
      "16 How can an AI train itself if no one is telling it if its answer is correct or wrong?\n",
      "\n",
      "\n",
      "17 How do you explain Machine Learning and Data Mining to non Computer Science people?\n",
      "\n",
      "\n",
      "18 What are prerequisites to start learning machine learning?\n",
      "\n",
      "\n",
      "19 Do you think machine learning is more exciting than software development?\n",
      "\n",
      "\n"
     ]
    }
   ],
   "source": [
    "# Scroll down to load more questions\n",
    "import time\n",
    "\n",
    "driver = webdriver.Chrome()\n",
    "\n",
    "#driver = webdriver.Safari()\n",
    "driver.get('https://www.quora.com/topic/Machine-Learning')\n",
    "\n",
    "# scroll down 5 times\n",
    "for i in range(5):\n",
    "    driver.execute_script(\"window.scrollTo(0, \\\n",
    "    document.body.scrollHeight);\")\n",
    "    \n",
    "    # wait for the content to be loaded\n",
    "    time.sleep(2)   \n",
    "\n",
    "questions=driver.find_elements(By.CSS_SELECTOR,\"span.q-box.qu-userSelect--text\")\n",
    "    \n",
    "for i, q in enumerate(questions):\n",
    "    print(i, q.text)\n",
    "    print(\"\\n\")\n"
   ]
  },
  {
   "cell_type": "code",
   "execution_count": 9,
   "metadata": {},
   "outputs": [],
   "source": [
    "driver.quit()"
   ]
  },
  {
   "cell_type": "markdown",
   "metadata": {},
   "source": [
    "### 3.3. Wait\n",
    "  - Because of the use of AJAX technologies, web elements often load at different time intervals. \n",
    "  - This makes locating elements difficult. \n",
    "    - if an element is not loaded,  a locating function will raise an ElementNotVisibleException exception.\n",
    "  - Two types of waits \n",
    "    - `implicit`: When a Webdriver locates for any element, but the element is not available, instead of throwing \"No Such Element Exception\" immediately, the Webdriver waits for a certain amount of time. By the time it is still not available, then the error is thrown. \n",
    "      * Implicit wait is set at the driver level and applies to any locating function\n",
    "    - `explicit`: WebDriver waits for a certain condition to occur before proceeding further with execution\n",
    "      * Explicit wait is set at each locating function "
   ]
  },
  {
   "cell_type": "markdown",
   "metadata": {},
   "source": [
    "Assume you're looking for a question `How should you start a career in Machine Learning?`, but you're not sure if this question has been loaded into the page\n",
    "- Case 1: If this question is not in the page, you get an error immediately\n",
    "- Case 2: If it takes time to load the question, use implict wait to wait for some time\n",
    "- Case 3: You can keep scroll down until the question has been loaded or max tries reached\n",
    "    - Use `try ... else` block to handle the exception more elegently"
   ]
  },
  {
   "cell_type": "code",
   "execution_count": 19,
   "metadata": {},
   "outputs": [
    {
     "ename": "NoSuchElementException",
     "evalue": "Message: no such element: Unable to locate element: {\"method\":\"css selector\",\"selector\":\"a[href=\"https://www.quora.com/What-is-the-weirdest-thing-a-neural-network-has-done\"]\"}\n  (Session info: chrome=121.0.6167.184); For documentation on this error, please visit: https://www.selenium.dev/documentation/webdriver/troubleshooting/errors#no-such-element-exception\nStacktrace:\n0   chromedriver                        0x000000010092e7dc chromedriver + 4040668\n1   chromedriver                        0x00000001009269e0 chromedriver + 4008416\n2   chromedriver                        0x0000000100599870 chromedriver + 284784\n3   chromedriver                        0x00000001005dd080 chromedriver + 561280\n4   chromedriver                        0x0000000100617048 chromedriver + 798792\n5   chromedriver                        0x00000001005d174c chromedriver + 513868\n6   chromedriver                        0x00000001005d2044 chromedriver + 516164\n7   chromedriver                        0x00000001008f3a04 chromedriver + 3799556\n8   chromedriver                        0x00000001008f7ee4 chromedriver + 3817188\n9   chromedriver                        0x00000001008dc260 chromedriver + 3703392\n10  chromedriver                        0x00000001008f8a2c chromedriver + 3820076\n11  chromedriver                        0x00000001008cf01c chromedriver + 3649564\n12  chromedriver                        0x0000000100915e3c chromedriver + 3939900\n13  chromedriver                        0x0000000100915fb4 chromedriver + 3940276\n14  chromedriver                        0x0000000100926660 chromedriver + 4007520\n15  libsystem_pthread.dylib             0x0000000192b33fa8 _pthread_start + 148\n16  libsystem_pthread.dylib             0x0000000192b2eda0 thread_start + 8\n",
     "output_type": "error",
     "traceback": [
      "\u001b[0;31m---------------------------------------------------------------------------\u001b[0m",
      "\u001b[0;31mNoSuchElementException\u001b[0m                    Traceback (most recent call last)",
      "\u001b[0;32m/var/folders/bk/66r4ld3j7hj8yg_49fhv2fr40000gn/T/ipykernel_84726/1059708022.py\u001b[0m in \u001b[0;36m<module>\u001b[0;34m\u001b[0m\n\u001b[1;32m      5\u001b[0m \u001b[0mdriver\u001b[0m\u001b[0;34m.\u001b[0m\u001b[0mget\u001b[0m\u001b[0;34m(\u001b[0m\u001b[0;34m'https://www.quora.com/topic/Machine-Learning'\u001b[0m\u001b[0;34m)\u001b[0m\u001b[0;34m\u001b[0m\u001b[0;34m\u001b[0m\u001b[0m\n\u001b[1;32m      6\u001b[0m \u001b[0;34m\u001b[0m\u001b[0m\n\u001b[0;32m----> 7\u001b[0;31m \u001b[0mq\u001b[0m \u001b[0;34m=\u001b[0m \u001b[0mdriver\u001b[0m\u001b[0;34m.\u001b[0m\u001b[0mfind_element\u001b[0m\u001b[0;34m(\u001b[0m\u001b[0mBy\u001b[0m\u001b[0;34m.\u001b[0m\u001b[0mCSS_SELECTOR\u001b[0m\u001b[0;34m,\u001b[0m \u001b[0;34m'a[href=\"https://www.quora.com/What-is-the-weirdest-thing-a-neural-network-has-done\"]'\u001b[0m\u001b[0;34m)\u001b[0m\u001b[0;34m\u001b[0m\u001b[0;34m\u001b[0m\u001b[0m\n\u001b[0m\u001b[1;32m      8\u001b[0m \u001b[0;34m\u001b[0m\u001b[0m\n\u001b[1;32m      9\u001b[0m \u001b[0mprint\u001b[0m\u001b[0;34m(\u001b[0m\u001b[0mq\u001b[0m\u001b[0;34m.\u001b[0m\u001b[0mtext\u001b[0m\u001b[0;34m)\u001b[0m\u001b[0;34m\u001b[0m\u001b[0;34m\u001b[0m\u001b[0m\n",
      "\u001b[0;32m~/opt/anaconda3/lib/python3.9/site-packages/selenium/webdriver/remote/webdriver.py\u001b[0m in \u001b[0;36mfind_element\u001b[0;34m(self, by, value)\u001b[0m\n\u001b[1;32m    739\u001b[0m             \u001b[0mvalue\u001b[0m \u001b[0;34m=\u001b[0m \u001b[0;34mf'[name=\"{value}\"]'\u001b[0m\u001b[0;34m\u001b[0m\u001b[0;34m\u001b[0m\u001b[0m\n\u001b[1;32m    740\u001b[0m \u001b[0;34m\u001b[0m\u001b[0m\n\u001b[0;32m--> 741\u001b[0;31m         \u001b[0;32mreturn\u001b[0m \u001b[0mself\u001b[0m\u001b[0;34m.\u001b[0m\u001b[0mexecute\u001b[0m\u001b[0;34m(\u001b[0m\u001b[0mCommand\u001b[0m\u001b[0;34m.\u001b[0m\u001b[0mFIND_ELEMENT\u001b[0m\u001b[0;34m,\u001b[0m \u001b[0;34m{\u001b[0m\u001b[0;34m\"using\"\u001b[0m\u001b[0;34m:\u001b[0m \u001b[0mby\u001b[0m\u001b[0;34m,\u001b[0m \u001b[0;34m\"value\"\u001b[0m\u001b[0;34m:\u001b[0m \u001b[0mvalue\u001b[0m\u001b[0;34m}\u001b[0m\u001b[0;34m)\u001b[0m\u001b[0;34m[\u001b[0m\u001b[0;34m\"value\"\u001b[0m\u001b[0;34m]\u001b[0m\u001b[0;34m\u001b[0m\u001b[0;34m\u001b[0m\u001b[0m\n\u001b[0m\u001b[1;32m    742\u001b[0m \u001b[0;34m\u001b[0m\u001b[0m\n\u001b[1;32m    743\u001b[0m     \u001b[0;32mdef\u001b[0m \u001b[0mfind_elements\u001b[0m\u001b[0;34m(\u001b[0m\u001b[0mself\u001b[0m\u001b[0;34m,\u001b[0m \u001b[0mby\u001b[0m\u001b[0;34m=\u001b[0m\u001b[0mBy\u001b[0m\u001b[0;34m.\u001b[0m\u001b[0mID\u001b[0m\u001b[0;34m,\u001b[0m \u001b[0mvalue\u001b[0m\u001b[0;34m:\u001b[0m \u001b[0mOptional\u001b[0m\u001b[0;34m[\u001b[0m\u001b[0mstr\u001b[0m\u001b[0;34m]\u001b[0m \u001b[0;34m=\u001b[0m \u001b[0;32mNone\u001b[0m\u001b[0;34m)\u001b[0m \u001b[0;34m->\u001b[0m \u001b[0mList\u001b[0m\u001b[0;34m[\u001b[0m\u001b[0mWebElement\u001b[0m\u001b[0;34m]\u001b[0m\u001b[0;34m:\u001b[0m\u001b[0;34m\u001b[0m\u001b[0;34m\u001b[0m\u001b[0m\n",
      "\u001b[0;32m~/opt/anaconda3/lib/python3.9/site-packages/selenium/webdriver/remote/webdriver.py\u001b[0m in \u001b[0;36mexecute\u001b[0;34m(self, driver_command, params)\u001b[0m\n\u001b[1;32m    345\u001b[0m         \u001b[0mresponse\u001b[0m \u001b[0;34m=\u001b[0m \u001b[0mself\u001b[0m\u001b[0;34m.\u001b[0m\u001b[0mcommand_executor\u001b[0m\u001b[0;34m.\u001b[0m\u001b[0mexecute\u001b[0m\u001b[0;34m(\u001b[0m\u001b[0mdriver_command\u001b[0m\u001b[0;34m,\u001b[0m \u001b[0mparams\u001b[0m\u001b[0;34m)\u001b[0m\u001b[0;34m\u001b[0m\u001b[0;34m\u001b[0m\u001b[0m\n\u001b[1;32m    346\u001b[0m         \u001b[0;32mif\u001b[0m \u001b[0mresponse\u001b[0m\u001b[0;34m:\u001b[0m\u001b[0;34m\u001b[0m\u001b[0;34m\u001b[0m\u001b[0m\n\u001b[0;32m--> 347\u001b[0;31m             \u001b[0mself\u001b[0m\u001b[0;34m.\u001b[0m\u001b[0merror_handler\u001b[0m\u001b[0;34m.\u001b[0m\u001b[0mcheck_response\u001b[0m\u001b[0;34m(\u001b[0m\u001b[0mresponse\u001b[0m\u001b[0;34m)\u001b[0m\u001b[0;34m\u001b[0m\u001b[0;34m\u001b[0m\u001b[0m\n\u001b[0m\u001b[1;32m    348\u001b[0m             \u001b[0mresponse\u001b[0m\u001b[0;34m[\u001b[0m\u001b[0;34m\"value\"\u001b[0m\u001b[0;34m]\u001b[0m \u001b[0;34m=\u001b[0m \u001b[0mself\u001b[0m\u001b[0;34m.\u001b[0m\u001b[0m_unwrap_value\u001b[0m\u001b[0;34m(\u001b[0m\u001b[0mresponse\u001b[0m\u001b[0;34m.\u001b[0m\u001b[0mget\u001b[0m\u001b[0;34m(\u001b[0m\u001b[0;34m\"value\"\u001b[0m\u001b[0;34m,\u001b[0m \u001b[0;32mNone\u001b[0m\u001b[0;34m)\u001b[0m\u001b[0;34m)\u001b[0m\u001b[0;34m\u001b[0m\u001b[0;34m\u001b[0m\u001b[0m\n\u001b[1;32m    349\u001b[0m             \u001b[0;32mreturn\u001b[0m \u001b[0mresponse\u001b[0m\u001b[0;34m\u001b[0m\u001b[0;34m\u001b[0m\u001b[0m\n",
      "\u001b[0;32m~/opt/anaconda3/lib/python3.9/site-packages/selenium/webdriver/remote/errorhandler.py\u001b[0m in \u001b[0;36mcheck_response\u001b[0;34m(self, response)\u001b[0m\n\u001b[1;32m    227\u001b[0m                 \u001b[0malert_text\u001b[0m \u001b[0;34m=\u001b[0m \u001b[0mvalue\u001b[0m\u001b[0;34m[\u001b[0m\u001b[0;34m\"alert\"\u001b[0m\u001b[0;34m]\u001b[0m\u001b[0;34m.\u001b[0m\u001b[0mget\u001b[0m\u001b[0;34m(\u001b[0m\u001b[0;34m\"text\"\u001b[0m\u001b[0;34m)\u001b[0m\u001b[0;34m\u001b[0m\u001b[0;34m\u001b[0m\u001b[0m\n\u001b[1;32m    228\u001b[0m             \u001b[0;32mraise\u001b[0m \u001b[0mexception_class\u001b[0m\u001b[0;34m(\u001b[0m\u001b[0mmessage\u001b[0m\u001b[0;34m,\u001b[0m \u001b[0mscreen\u001b[0m\u001b[0;34m,\u001b[0m \u001b[0mstacktrace\u001b[0m\u001b[0;34m,\u001b[0m \u001b[0malert_text\u001b[0m\u001b[0;34m)\u001b[0m  \u001b[0;31m# type: ignore[call-arg]  # mypy is not smart enough here\u001b[0m\u001b[0;34m\u001b[0m\u001b[0;34m\u001b[0m\u001b[0m\n\u001b[0;32m--> 229\u001b[0;31m         \u001b[0;32mraise\u001b[0m \u001b[0mexception_class\u001b[0m\u001b[0;34m(\u001b[0m\u001b[0mmessage\u001b[0m\u001b[0;34m,\u001b[0m \u001b[0mscreen\u001b[0m\u001b[0;34m,\u001b[0m \u001b[0mstacktrace\u001b[0m\u001b[0;34m)\u001b[0m\u001b[0;34m\u001b[0m\u001b[0;34m\u001b[0m\u001b[0m\n\u001b[0m",
      "\u001b[0;31mNoSuchElementException\u001b[0m: Message: no such element: Unable to locate element: {\"method\":\"css selector\",\"selector\":\"a[href=\"https://www.quora.com/What-is-the-weirdest-thing-a-neural-network-has-done\"]\"}\n  (Session info: chrome=121.0.6167.184); For documentation on this error, please visit: https://www.selenium.dev/documentation/webdriver/troubleshooting/errors#no-such-element-exception\nStacktrace:\n0   chromedriver                        0x000000010092e7dc chromedriver + 4040668\n1   chromedriver                        0x00000001009269e0 chromedriver + 4008416\n2   chromedriver                        0x0000000100599870 chromedriver + 284784\n3   chromedriver                        0x00000001005dd080 chromedriver + 561280\n4   chromedriver                        0x0000000100617048 chromedriver + 798792\n5   chromedriver                        0x00000001005d174c chromedriver + 513868\n6   chromedriver                        0x00000001005d2044 chromedriver + 516164\n7   chromedriver                        0x00000001008f3a04 chromedriver + 3799556\n8   chromedriver                        0x00000001008f7ee4 chromedriver + 3817188\n9   chromedriver                        0x00000001008dc260 chromedriver + 3703392\n10  chromedriver                        0x00000001008f8a2c chromedriver + 3820076\n11  chromedriver                        0x00000001008cf01c chromedriver + 3649564\n12  chromedriver                        0x0000000100915e3c chromedriver + 3939900\n13  chromedriver                        0x0000000100915fb4 chromedriver + 3940276\n14  chromedriver                        0x0000000100926660 chromedriver + 4007520\n15  libsystem_pthread.dylib             0x0000000192b33fa8 _pthread_start + 148\n16  libsystem_pthread.dylib             0x0000000192b2eda0 thread_start + 8\n"
     ]
    }
   ],
   "source": [
    "# If the element is not there, you'll see an error immediately\n",
    "\n",
    "#driver = webdriver.Safari()\n",
    "driver = webdriver.Chrome()\n",
    "driver.get('https://www.quora.com/topic/Machine-Learning')\n",
    "\n",
    "q = driver.find_element(By.CSS_SELECTOR, 'a[href=\"https://www.quora.com/What-is-the-weirdest-thing-a-neural-network-has-done\"]')\n",
    "\n",
    "print(q.text)\n",
    "driver.quit()"
   ]
  },
  {
   "cell_type": "code",
   "execution_count": 20,
   "metadata": {},
   "outputs": [
    {
     "ename": "NoSuchWindowException",
     "evalue": "Message: no such window: target window already closed\nfrom unknown error: web view not found\n  (Session info: chrome=121.0.6167.184)\nStacktrace:\n0   chromedriver                        0x000000010524e7dc chromedriver + 4040668\n1   chromedriver                        0x00000001052469e0 chromedriver + 4008416\n2   chromedriver                        0x0000000104eb9870 chromedriver + 284784\n3   chromedriver                        0x0000000104e94064 chromedriver + 131172\n4   chromedriver                        0x0000000104f232b0 chromedriver + 717488\n5   chromedriver                        0x0000000104f3675c chromedriver + 796508\n6   chromedriver                        0x0000000104ef174c chromedriver + 513868\n7   chromedriver                        0x0000000104ef2044 chromedriver + 516164\n8   chromedriver                        0x0000000105213a04 chromedriver + 3799556\n9   chromedriver                        0x0000000105217ee4 chromedriver + 3817188\n10  chromedriver                        0x00000001051fc260 chromedriver + 3703392\n11  chromedriver                        0x0000000105218a2c chromedriver + 3820076\n12  chromedriver                        0x00000001051ef01c chromedriver + 3649564\n13  chromedriver                        0x0000000105235e3c chromedriver + 3939900\n14  chromedriver                        0x0000000105235fb4 chromedriver + 3940276\n15  chromedriver                        0x0000000105246660 chromedriver + 4007520\n16  libsystem_pthread.dylib             0x0000000192b33fa8 _pthread_start + 148\n17  libsystem_pthread.dylib             0x0000000192b2eda0 thread_start + 8\n",
     "output_type": "error",
     "traceback": [
      "\u001b[0;31m---------------------------------------------------------------------------\u001b[0m",
      "\u001b[0;31mNoSuchWindowException\u001b[0m                     Traceback (most recent call last)",
      "\u001b[0;32m/var/folders/bk/66r4ld3j7hj8yg_49fhv2fr40000gn/T/ipykernel_84726/943233006.py\u001b[0m in \u001b[0;36m<module>\u001b[0;34m\u001b[0m\n\u001b[1;32m      6\u001b[0m \u001b[0mdriver\u001b[0m\u001b[0;34m.\u001b[0m\u001b[0mimplicitly_wait\u001b[0m\u001b[0;34m(\u001b[0m\u001b[0;36m10\u001b[0m\u001b[0;34m)\u001b[0m\u001b[0;34m\u001b[0m\u001b[0;34m\u001b[0m\u001b[0m\n\u001b[1;32m      7\u001b[0m \u001b[0;34m\u001b[0m\u001b[0m\n\u001b[0;32m----> 8\u001b[0;31m \u001b[0mq\u001b[0m \u001b[0;34m=\u001b[0m \u001b[0mdriver\u001b[0m\u001b[0;34m.\u001b[0m\u001b[0mfind_element\u001b[0m\u001b[0;34m(\u001b[0m\u001b[0mBy\u001b[0m\u001b[0;34m.\u001b[0m\u001b[0mCSS_SELECTOR\u001b[0m\u001b[0;34m,\u001b[0m \u001b[0;34m'a[href=\"https://www.quora.com/What-is-the-weirdest-thing-a-neural-network-has-done\"]'\u001b[0m\u001b[0;34m)\u001b[0m\u001b[0;34m\u001b[0m\u001b[0;34m\u001b[0m\u001b[0m\n\u001b[0m\u001b[1;32m      9\u001b[0m \u001b[0;34m\u001b[0m\u001b[0m\n\u001b[1;32m     10\u001b[0m \u001b[0mprint\u001b[0m\u001b[0;34m(\u001b[0m\u001b[0mq\u001b[0m\u001b[0;34m.\u001b[0m\u001b[0mtext\u001b[0m\u001b[0;34m)\u001b[0m\u001b[0;34m\u001b[0m\u001b[0;34m\u001b[0m\u001b[0m\n",
      "\u001b[0;32m~/opt/anaconda3/lib/python3.9/site-packages/selenium/webdriver/remote/webdriver.py\u001b[0m in \u001b[0;36mfind_element\u001b[0;34m(self, by, value)\u001b[0m\n\u001b[1;32m    739\u001b[0m             \u001b[0mvalue\u001b[0m \u001b[0;34m=\u001b[0m \u001b[0;34mf'[name=\"{value}\"]'\u001b[0m\u001b[0;34m\u001b[0m\u001b[0;34m\u001b[0m\u001b[0m\n\u001b[1;32m    740\u001b[0m \u001b[0;34m\u001b[0m\u001b[0m\n\u001b[0;32m--> 741\u001b[0;31m         \u001b[0;32mreturn\u001b[0m \u001b[0mself\u001b[0m\u001b[0;34m.\u001b[0m\u001b[0mexecute\u001b[0m\u001b[0;34m(\u001b[0m\u001b[0mCommand\u001b[0m\u001b[0;34m.\u001b[0m\u001b[0mFIND_ELEMENT\u001b[0m\u001b[0;34m,\u001b[0m \u001b[0;34m{\u001b[0m\u001b[0;34m\"using\"\u001b[0m\u001b[0;34m:\u001b[0m \u001b[0mby\u001b[0m\u001b[0;34m,\u001b[0m \u001b[0;34m\"value\"\u001b[0m\u001b[0;34m:\u001b[0m \u001b[0mvalue\u001b[0m\u001b[0;34m}\u001b[0m\u001b[0;34m)\u001b[0m\u001b[0;34m[\u001b[0m\u001b[0;34m\"value\"\u001b[0m\u001b[0;34m]\u001b[0m\u001b[0;34m\u001b[0m\u001b[0;34m\u001b[0m\u001b[0m\n\u001b[0m\u001b[1;32m    742\u001b[0m \u001b[0;34m\u001b[0m\u001b[0m\n\u001b[1;32m    743\u001b[0m     \u001b[0;32mdef\u001b[0m \u001b[0mfind_elements\u001b[0m\u001b[0;34m(\u001b[0m\u001b[0mself\u001b[0m\u001b[0;34m,\u001b[0m \u001b[0mby\u001b[0m\u001b[0;34m=\u001b[0m\u001b[0mBy\u001b[0m\u001b[0;34m.\u001b[0m\u001b[0mID\u001b[0m\u001b[0;34m,\u001b[0m \u001b[0mvalue\u001b[0m\u001b[0;34m:\u001b[0m \u001b[0mOptional\u001b[0m\u001b[0;34m[\u001b[0m\u001b[0mstr\u001b[0m\u001b[0;34m]\u001b[0m \u001b[0;34m=\u001b[0m \u001b[0;32mNone\u001b[0m\u001b[0;34m)\u001b[0m \u001b[0;34m->\u001b[0m \u001b[0mList\u001b[0m\u001b[0;34m[\u001b[0m\u001b[0mWebElement\u001b[0m\u001b[0;34m]\u001b[0m\u001b[0;34m:\u001b[0m\u001b[0;34m\u001b[0m\u001b[0;34m\u001b[0m\u001b[0m\n",
      "\u001b[0;32m~/opt/anaconda3/lib/python3.9/site-packages/selenium/webdriver/remote/webdriver.py\u001b[0m in \u001b[0;36mexecute\u001b[0;34m(self, driver_command, params)\u001b[0m\n\u001b[1;32m    345\u001b[0m         \u001b[0mresponse\u001b[0m \u001b[0;34m=\u001b[0m \u001b[0mself\u001b[0m\u001b[0;34m.\u001b[0m\u001b[0mcommand_executor\u001b[0m\u001b[0;34m.\u001b[0m\u001b[0mexecute\u001b[0m\u001b[0;34m(\u001b[0m\u001b[0mdriver_command\u001b[0m\u001b[0;34m,\u001b[0m \u001b[0mparams\u001b[0m\u001b[0;34m)\u001b[0m\u001b[0;34m\u001b[0m\u001b[0;34m\u001b[0m\u001b[0m\n\u001b[1;32m    346\u001b[0m         \u001b[0;32mif\u001b[0m \u001b[0mresponse\u001b[0m\u001b[0;34m:\u001b[0m\u001b[0;34m\u001b[0m\u001b[0;34m\u001b[0m\u001b[0m\n\u001b[0;32m--> 347\u001b[0;31m             \u001b[0mself\u001b[0m\u001b[0;34m.\u001b[0m\u001b[0merror_handler\u001b[0m\u001b[0;34m.\u001b[0m\u001b[0mcheck_response\u001b[0m\u001b[0;34m(\u001b[0m\u001b[0mresponse\u001b[0m\u001b[0;34m)\u001b[0m\u001b[0;34m\u001b[0m\u001b[0;34m\u001b[0m\u001b[0m\n\u001b[0m\u001b[1;32m    348\u001b[0m             \u001b[0mresponse\u001b[0m\u001b[0;34m[\u001b[0m\u001b[0;34m\"value\"\u001b[0m\u001b[0;34m]\u001b[0m \u001b[0;34m=\u001b[0m \u001b[0mself\u001b[0m\u001b[0;34m.\u001b[0m\u001b[0m_unwrap_value\u001b[0m\u001b[0;34m(\u001b[0m\u001b[0mresponse\u001b[0m\u001b[0;34m.\u001b[0m\u001b[0mget\u001b[0m\u001b[0;34m(\u001b[0m\u001b[0;34m\"value\"\u001b[0m\u001b[0;34m,\u001b[0m \u001b[0;32mNone\u001b[0m\u001b[0;34m)\u001b[0m\u001b[0;34m)\u001b[0m\u001b[0;34m\u001b[0m\u001b[0;34m\u001b[0m\u001b[0m\n\u001b[1;32m    349\u001b[0m             \u001b[0;32mreturn\u001b[0m \u001b[0mresponse\u001b[0m\u001b[0;34m\u001b[0m\u001b[0;34m\u001b[0m\u001b[0m\n",
      "\u001b[0;32m~/opt/anaconda3/lib/python3.9/site-packages/selenium/webdriver/remote/errorhandler.py\u001b[0m in \u001b[0;36mcheck_response\u001b[0;34m(self, response)\u001b[0m\n\u001b[1;32m    227\u001b[0m                 \u001b[0malert_text\u001b[0m \u001b[0;34m=\u001b[0m \u001b[0mvalue\u001b[0m\u001b[0;34m[\u001b[0m\u001b[0;34m\"alert\"\u001b[0m\u001b[0;34m]\u001b[0m\u001b[0;34m.\u001b[0m\u001b[0mget\u001b[0m\u001b[0;34m(\u001b[0m\u001b[0;34m\"text\"\u001b[0m\u001b[0;34m)\u001b[0m\u001b[0;34m\u001b[0m\u001b[0;34m\u001b[0m\u001b[0m\n\u001b[1;32m    228\u001b[0m             \u001b[0;32mraise\u001b[0m \u001b[0mexception_class\u001b[0m\u001b[0;34m(\u001b[0m\u001b[0mmessage\u001b[0m\u001b[0;34m,\u001b[0m \u001b[0mscreen\u001b[0m\u001b[0;34m,\u001b[0m \u001b[0mstacktrace\u001b[0m\u001b[0;34m,\u001b[0m \u001b[0malert_text\u001b[0m\u001b[0;34m)\u001b[0m  \u001b[0;31m# type: ignore[call-arg]  # mypy is not smart enough here\u001b[0m\u001b[0;34m\u001b[0m\u001b[0;34m\u001b[0m\u001b[0m\n\u001b[0;32m--> 229\u001b[0;31m         \u001b[0;32mraise\u001b[0m \u001b[0mexception_class\u001b[0m\u001b[0;34m(\u001b[0m\u001b[0mmessage\u001b[0m\u001b[0;34m,\u001b[0m \u001b[0mscreen\u001b[0m\u001b[0;34m,\u001b[0m \u001b[0mstacktrace\u001b[0m\u001b[0;34m)\u001b[0m\u001b[0;34m\u001b[0m\u001b[0;34m\u001b[0m\u001b[0m\n\u001b[0m",
      "\u001b[0;31mNoSuchWindowException\u001b[0m: Message: no such window: target window already closed\nfrom unknown error: web view not found\n  (Session info: chrome=121.0.6167.184)\nStacktrace:\n0   chromedriver                        0x000000010524e7dc chromedriver + 4040668\n1   chromedriver                        0x00000001052469e0 chromedriver + 4008416\n2   chromedriver                        0x0000000104eb9870 chromedriver + 284784\n3   chromedriver                        0x0000000104e94064 chromedriver + 131172\n4   chromedriver                        0x0000000104f232b0 chromedriver + 717488\n5   chromedriver                        0x0000000104f3675c chromedriver + 796508\n6   chromedriver                        0x0000000104ef174c chromedriver + 513868\n7   chromedriver                        0x0000000104ef2044 chromedriver + 516164\n8   chromedriver                        0x0000000105213a04 chromedriver + 3799556\n9   chromedriver                        0x0000000105217ee4 chromedriver + 3817188\n10  chromedriver                        0x00000001051fc260 chromedriver + 3703392\n11  chromedriver                        0x0000000105218a2c chromedriver + 3820076\n12  chromedriver                        0x00000001051ef01c chromedriver + 3649564\n13  chromedriver                        0x0000000105235e3c chromedriver + 3939900\n14  chromedriver                        0x0000000105235fb4 chromedriver + 3940276\n15  chromedriver                        0x0000000105246660 chromedriver + 4007520\n16  libsystem_pthread.dylib             0x0000000192b33fa8 _pthread_start + 148\n17  libsystem_pthread.dylib             0x0000000192b2eda0 thread_start + 8\n"
     ]
    }
   ],
   "source": [
    "# If the element is not there, you'll see an error after the waiting\n",
    "\n",
    "driver = webdriver.Chrome()\n",
    "driver.get('https://www.quora.com/topic/Machine-Learning')\n",
    "\n",
    "driver.implicitly_wait(10)\n",
    "\n",
    "q = driver.find_element(By.CSS_SELECTOR, 'a[href=\"https://www.quora.com/What-is-the-weirdest-thing-a-neural-network-has-done\"]')\n",
    "\n",
    "print(q.text)\n",
    "driver.quit()"
   ]
  },
  {
   "cell_type": "code",
   "execution_count": 22,
   "metadata": {},
   "outputs": [],
   "source": [
    "# If the element is not there, \n",
    "# you keep scrolling down until the element is there\n",
    "# or scrolling for max number of times\n",
    "# try except can catch the error\n",
    "\n",
    "driver = webdriver.Chrome()\n",
    "driver.get('https://www.quora.com/topic/Machine-Learning')\n",
    "\n",
    "found = False\n",
    "max_try = 10  # max number of scroll-downs\n",
    "cnt = 0\n",
    "\n",
    "while not found and cnt < max_try:\n",
    "    \n",
    "    try:\n",
    "        # This waits up to 5 seconds before throwing a TimeoutException \n",
    "        # unless it finds the element to return within 10 seconds.\n",
    "        \n",
    "        q = WebDriverWait(driver,5).until(\\\n",
    "                    expected_conditions.\\\n",
    "                    presence_of_element_located((By.CSS_SELECTOR, \\\n",
    "                    'a[href=\"https://www.quora.com/What-is-the-weirdest-thing-a-neural-network-has-done\"]')))\n",
    "        \n",
    "        found = True\n",
    "        print(q.text)\n",
    "\n",
    "    except:     # item not there yet\n",
    "        \n",
    "        driver.execute_script(\"window.scrollTo(0, \\\n",
    "        document.body.scrollHeight);\")\n",
    "     \n",
    "        cnt += 1\n",
    "        \n",
    "driver.quit()"
   ]
  },
  {
   "cell_type": "markdown",
   "metadata": {},
   "source": [
    "### 3.4. Combine WebDriver with BeautifulSoup\n",
    "\n",
    "- Use Selenium to retrieve the content\n",
    "- Use BeautifulSoup to parse the content (although Selenium can do the same!)\n",
    "- Example:\n",
    "    - Scroll down the page to load more content\n",
    "    - Parse the content using BeautifulSoup"
   ]
  },
  {
   "cell_type": "code",
   "execution_count": 11,
   "metadata": {},
   "outputs": [
    {
     "name": "stdout",
     "output_type": "stream",
     "text": [
      "0 How can you set yourself apart when everyone is doing machine learning or data science in 2019?\n",
      "\n",
      "\n",
      "1 What is a neural network in layman’s terms?\n",
      "\n",
      "\n",
      "2 Google's 'Bard' chatbot will compete with ChatGPT, what is special?\n",
      "\n",
      "\n",
      "3 How secure will available jobs as a machine learning engineer be in 2026?\n",
      "\n",
      "\n",
      "4 Are you worried about the possible effects of artificial intelligence?\n",
      "\n",
      "\n",
      "5 How can a student doing machine learning stand out from the crowd, these days when everyone is learning ML?\n",
      "\n",
      "\n",
      "6 What are the best institutes to study data science in chennai?\n",
      "\n",
      "\n",
      "7 What are some software and skills that every data scientist should know (excluding R, Matlab, and Hadoop)? Also, what are some resources for learning Hadoop?\n",
      "\n",
      "\n",
      "8 What are the best institutes to study data science in chennai?\n",
      "\n",
      "\n",
      "9 What are the best institutes to study data science in chennai?\n",
      "\n",
      "\n",
      "10 What are the best institutes to study data science in chennai?\n",
      "\n",
      "\n",
      "11 How do I get started in machine learning theory and programming?\n",
      "\n",
      "\n",
      "12 How do you explain Machine Learning and Data Mining to non Computer Science people?\n",
      "\n",
      "\n",
      "13 Should you spend money to buy a good GPU for studying deep learning (I’m not referring to production runs)?\n",
      "\n",
      "\n",
      "14 In layman's terms, how does artificial intelligence work, and is it based on algorithms?\n",
      "\n",
      "\n",
      "15 What are some relatively unknown but powerful data science / machine learning tricks?\n",
      "\n",
      "\n",
      "16 What do you think of Noam Chomsky's view on modern AI?\n",
      "\n",
      "\n",
      "17 Does being able to talk to a robot mean it thinks?\n",
      "\n",
      "\n",
      "18 What is the weirdest thing a neural network has done?\n",
      "\n",
      "\n",
      "19 What is something about the field of data science that only a professional would know?\n",
      "\n",
      "\n",
      "20 What does it feel like to be addicted to Kaggle?\n",
      "\n",
      "\n",
      "21 How does Boston Dynamics use AI/machine learning?\n",
      "\n",
      "\n",
      "22 Why is there a sudden craze of programmers with little math background jumping onto machine learning which requires a much different skill set than traditional programming?\n",
      "\n",
      "\n",
      "23 So many people are learning machine learning. What should I do to stand out?\n",
      "\n",
      "\n",
      "24 What data science or machine learning problem are you trying to solve right now?\n",
      "\n",
      "\n",
      "25 Is there an AI system that translates natural language to programming code?\n",
      "\n",
      "\n",
      "26 What are the advantages of logistic regression over decision trees? Are there any cases where it's better to use logistic regression instead of decision trees?\n",
      "\n",
      "\n",
      "27 Can machine learning algorithms really help in trading?\n",
      "\n",
      "\n",
      "28 What are the best institutes to study data science in chennai?\n",
      "\n",
      "\n",
      "29 When we are already in the era of Alexa and different other chatbots, what makes ChatGPT/DALLE a concern?\n",
      "\n",
      "\n",
      "30 What are the dangers of using machine learning libraries without any understanding?\n",
      "\n",
      "\n",
      "31 What does it mean that we don't really understand what happens in neural networks?\n",
      "\n",
      "\n",
      "32 Would people who are strong in math be good in machine learning?\n",
      "\n",
      "\n",
      "33 Are you a self-taught machine learning engineer? If yes, how did you do it, and how long did it take you?\n",
      "\n",
      "\n",
      "34 What is training, learning and testing in machine learning?\n",
      "\n",
      "\n",
      "35 What is your view on the recent AI shutdown by Facebook?\n",
      "\n",
      "\n",
      "36 What are prerequisites to start learning machine learning?\n",
      "\n",
      "\n",
      "37 Are any areas of the English language still out of reach for machine translation?\n",
      "\n",
      "\n",
      "38 What are prerequisites to start learning machine learning?\n",
      "\n",
      "\n",
      "39 What is an intuitive explanation of singular value decomposition (SVD)?\n",
      "\n",
      "\n",
      "40 What do people think of the TensorFlow sucks article?\n",
      "\n",
      "\n",
      "41 Is machine learning difficult to learn?\n",
      "\n",
      "\n",
      "42 What benefit did Google gain by giving its unique and invaluable internal treasures like Kubernetes and TensorFlow to the open source community where even competitors can benefit?\n",
      "\n",
      "\n",
      "43 What was Facebook’s strategy for making open-source many of its deep learning models?\n",
      "\n",
      "\n",
      "44 What's something about machine learning that only a professional would know?\n",
      "\n",
      "\n",
      "45 Do you believe human art and design is about to crumble because of the introduction of artificial intelligence?\n",
      "\n",
      "\n",
      "46 What is mirror descent and how is it different from gradient descent?\n",
      "\n",
      "\n",
      "47 What are chatbots?\n",
      "\n",
      "\n",
      "48 What is it like to be a machine learning researcher at Facebook?\n",
      "\n",
      "\n",
      "49 How are machine learning projects managed?\n",
      "\n",
      "\n"
     ]
    }
   ],
   "source": [
    "from bs4 import BeautifulSoup \n",
    "\n",
    "driver = webdriver.Chrome()\n",
    "\n",
    "driver.get('https://www.quora.com/topic/Machine-Learning')\n",
    "\n",
    "# scroll down 5 times\n",
    "for i in range(5):\n",
    "    driver.execute_script(\"window.scrollTo(0, \\\n",
    "    document.body.scrollHeight);\")\n",
    "    \n",
    "    # wait for the content to be loaded\n",
    "    time.sleep(2)   \n",
    "\n",
    "# Collect html page source\n",
    "content = driver.page_source\n",
    "\n",
    "# Parse the content by BeautifulSoup\n",
    "soup = BeautifulSoup(content, 'html.parser')\n",
    "\n",
    "# get all questions\n",
    "questions=soup.select(\"span.q-box.qu-userSelect--text\")\n",
    "    \n",
    "for i, q in enumerate(questions):\n",
    "    print(i, q.get_text())\n",
    "    print(\"\\n\")\n",
    "\n",
    "driver.quit()"
   ]
  },
  {
   "cell_type": "markdown",
   "metadata": {},
   "source": [
    "# Playwright"
   ]
  },
  {
   "cell_type": "markdown",
   "metadata": {},
   "source": [
    "- Playwright is a testing and automation framework that can automate web browser interactions, e.g., navigating to URLs, entering text, clicking buttons etc. \n",
    "- It supports asychronous functions, which can work with multiple pages at the same time, without getting blocked or having to wait for operations to complete in any of them.\n",
    "- It supports most browsers such as Google Chrome, Microsoft Edge using Chromium, Firefox and Safari with a single web driver (Selenium has a separate web driver for each browsser).\n",
    "- See a nice tutorial about Web Scripting with Playwright: https://oxylabs.io/blog/playwright-web-scraping"
   ]
  },
  {
   "cell_type": "markdown",
   "metadata": {},
   "source": [
    "## Installation"
   ]
  },
  {
   "cell_type": "code",
   "execution_count": 25,
   "metadata": {},
   "outputs": [
    {
     "name": "stdout",
     "output_type": "stream",
     "text": [
      "Requirement already satisfied: playwright in /Users/thanapoomphatthanaphan/miniconda3/lib/python3.11/site-packages (1.41.2)\r\n",
      "Requirement already satisfied: greenlet==3.0.3 in /Users/thanapoomphatthanaphan/miniconda3/lib/python3.11/site-packages (from playwright) (3.0.3)\r\n",
      "Requirement already satisfied: pyee==11.0.1 in /Users/thanapoomphatthanaphan/miniconda3/lib/python3.11/site-packages (from playwright) (11.0.1)\r\n",
      "Requirement already satisfied: typing-extensions in /Users/thanapoomphatthanaphan/miniconda3/lib/python3.11/site-packages (from pyee==11.0.1->playwright) (4.9.0)\r\n"
     ]
    }
   ],
   "source": [
    "! python -m pip install playwright\n",
    "! playwright install"
   ]
  },
  {
   "cell_type": "code",
   "execution_count": 27,
   "metadata": {},
   "outputs": [
    {
     "name": "stdout",
     "output_type": "stream",
     "text": [
      "Collecting playwright\n",
      "  Downloading playwright-1.41.2-py3-none-macosx_10_13_x86_64.whl.metadata (3.6 kB)\n",
      "Collecting greenlet==3.0.3 (from playwright)\n",
      "  Downloading greenlet-3.0.3.tar.gz (182 kB)\n",
      "\u001b[2K     \u001b[90m━━━━━━━━━━━━━━━━━━━━━━━━━━━━━━━━━━━━━\u001b[0m \u001b[32m182.0/182.0 kB\u001b[0m \u001b[31m874.7 kB/s\u001b[0m eta \u001b[36m0:00:00\u001b[0ma \u001b[36m0:00:01\u001b[0m\n",
      "\u001b[?25h  Installing build dependencies ... \u001b[?25ldone\n",
      "\u001b[?25h  Getting requirements to build wheel ... \u001b[?25ldone\n",
      "\u001b[?25h  Installing backend dependencies ... \u001b[?25ldone\n",
      "\u001b[?25h  Preparing metadata (pyproject.toml) ... \u001b[?25ldone\n",
      "\u001b[?25hCollecting pyee==11.0.1 (from playwright)\n",
      "  Using cached pyee-11.0.1-py3-none-any.whl.metadata (2.7 kB)\n",
      "Requirement already satisfied: typing-extensions in /Users/thanapoomphatthanaphan/opt/anaconda3/lib/python3.9/site-packages (from pyee==11.0.1->playwright) (4.9.0)\n",
      "Downloading playwright-1.41.2-py3-none-macosx_10_13_x86_64.whl (34.3 MB)\n",
      "\u001b[2K   \u001b[90m━━━━━━━━━━━━━━━━━━━━━━━━━━━━━━━━━━━━━━━━\u001b[0m \u001b[32m34.3/34.3 MB\u001b[0m \u001b[31m2.6 MB/s\u001b[0m eta \u001b[36m0:00:00\u001b[0m00:01\u001b[0m00:01\u001b[0m\n",
      "\u001b[?25hUsing cached pyee-11.0.1-py3-none-any.whl (15 kB)\n",
      "Building wheels for collected packages: greenlet\n",
      "  Building wheel for greenlet (pyproject.toml) ... \u001b[?25ldone\n",
      "\u001b[?25h  Created wheel for greenlet: filename=greenlet-3.0.3-cp39-cp39-macosx_10_9_x86_64.whl size=213328 sha256=5f2112311957f2fe43463ea6596f4902ec2ee0cadc9261e1da7c6980698abed4\n",
      "  Stored in directory: /Users/thanapoomphatthanaphan/Library/Caches/pip/wheels/4e/b7/50/fef77b0dafc995530497e09a5123f00b1e68c9d305e9cf37e5\n",
      "Successfully built greenlet\n",
      "Installing collected packages: pyee, greenlet, playwright\n",
      "  Attempting uninstall: greenlet\n",
      "    Found existing installation: greenlet 1.1.1\n",
      "    Uninstalling greenlet-1.1.1:\n",
      "      Successfully uninstalled greenlet-1.1.1\n",
      "Successfully installed greenlet-3.0.3 playwright-1.41.2 pyee-11.0.1\n",
      "Note: you may need to restart the kernel to use updated packages.\n"
     ]
    }
   ],
   "source": [
    "pip install playwright"
   ]
  },
  {
   "cell_type": "markdown",
   "metadata": {},
   "source": [
    "## Comparison between Selenium and Playwright: \n",
    "\n",
    "https://oxylabs.io/blog/playwright-vs-selenium"
   ]
  },
  {
   "cell_type": "markdown",
   "metadata": {},
   "source": [
    "## Some concepts\n",
    "\n",
    "- **Headless browser** : \n",
    "    - A web browser without a graphical user interface (GUI). \n",
    "    - During web scraping there is often no need to start a website. Web scraping with a headless browser allows quickly navigating websites and collecting public data\n",
    "- **Asychronous (async/await syntax)**:\n",
    "    - The **async** keyword is used to define a coroutine function, which can be suspended and resumed at specific points during its execution. \n",
    "    - The **await** keyword is used to indicate that a coroutine function should pause execution until a certain event occurs"
   ]
  },
  {
   "cell_type": "markdown",
   "metadata": {},
   "source": [
    "## Select elements:\n",
    "\n",
    "\n",
    "- *query_selector*: collect the first elements by a CSS selector\n",
    "- *query_selector_all*: collect the first elements by a CSS selector"
   ]
  },
  {
   "cell_type": "markdown",
   "metadata": {},
   "source": [
    "## Hands-on"
   ]
  },
  {
   "cell_type": "code",
   "execution_count": 28,
   "metadata": {},
   "outputs": [],
   "source": [
    "from playwright.async_api import async_playwright\n",
    "import asyncio\n",
    "import time"
   ]
  },
  {
   "cell_type": "code",
   "execution_count": 29,
   "metadata": {},
   "outputs": [],
   "source": [
    "async def scrape():\n",
    "    \n",
    "    async with async_playwright() as pw:\n",
    "        browser = await pw.chromium.launch(\n",
    "           headless=False\n",
    "           #headless = True        # no browser pops out\n",
    "       )\n",
    "        \n",
    "        # wait for the browser opens a new page and direct to the url\n",
    "        page = await browser.new_page()\n",
    "        await page.goto('https://www.quora.com/topic/Machine-Learning')\n",
    "        await page.wait_for_timeout(5000)\n",
    "        \n",
    "        # mouse wheel down 300 pixels for 10 times to load more questions\n",
    "        for i in range(10):\n",
    "            \n",
    "            await page.mouse.wheel(0, 300)\n",
    "            \n",
    "            # sleep for 2 second to wait content to be loaded\n",
    "            time.sleep(2)\n",
    "            \n",
    "        # query all elements by CSS selector\n",
    "        all_questions = await page.query_selector_all('span.q-box.qu-userSelect--text')\n",
    "        \n",
    "        qs =[]\n",
    "        for q in all_questions:\n",
    "            \n",
    "            # query the span element under each question\n",
    "            q = await q.query_selector('span')\n",
    "            \n",
    "            # get the text\n",
    "            text = await q.inner_text()\n",
    "            qs.append(text)\n",
    "        \n",
    "        for i, q in enumerate(qs):\n",
    "            print(f\"{i}:{q}\")\n",
    "        \n",
    "        await browser.close()"
   ]
  },
  {
   "cell_type": "code",
   "execution_count": 30,
   "metadata": {
    "scrolled": false
   },
   "outputs": [
    {
     "name": "stdout",
     "output_type": "stream",
     "text": [
      "0:Are you worried about the possible effects of artificial intelligence?\n",
      "1:How can you set yourself apart when everyone is doing machine learning or data science in 2019?\n",
      "2:What do you think of Noam Chomsky's view on modern AI?\n",
      "3:How secure will available jobs as a machine learning engineer be in 2026?\n",
      "4:Why is there a sudden craze of programmers with little math background jumping onto machine learning which requires a much different skill set than traditional programming?\n",
      "5:Who is your favorite historical figure and why?\n",
      "6:How are machine learning projects managed?\n",
      "7:What is a neural network in layman’s terms?\n",
      "8:Google's 'Bard' chatbot will compete with ChatGPT, what is special?\n",
      "9:Why can't Quora spot harassing posts before they're published? How hard would it be to train an AI to recognise the infantile sentiments and reject them?\n",
      "10:Does being able to talk to a robot mean it thinks?\n",
      "11:Do you believe human art and design is about to crumble because of the introduction of artificial intelligence?\n",
      "12:What is mirror descent and how is it different from gradient descent?\n",
      "13:What are the dangers of using machine learning libraries without any understanding?\n",
      "14:What are prerequisites to start learning machine learning?\n",
      "15:How can an AI train itself if no one is telling it if its answer is correct or wrong?\n",
      "16:How do you explain Machine Learning and Data Mining to non Computer Science people?\n",
      "17:What are prerequisites to start learning machine learning?\n",
      "18:Do you think machine learning is more exciting than software development?\n",
      "19:What does it mean that we don't really understand what happens in neural networks?\n"
     ]
    }
   ],
   "source": [
    "# Execute the scrape function in Jupyter\n",
    "await scrape()\n",
    "\n",
    "# In commandline, you can start many asychronous coroutines by \n",
    "#asyncio.run(scrape())\n",
    "#asyncio.run(scrape())"
   ]
  },
  {
   "cell_type": "markdown",
   "metadata": {},
   "source": []
  }
 ],
 "metadata": {
  "kernelspec": {
   "display_name": "Python 3 (ipykernel)",
   "language": "python",
   "name": "python3"
  },
  "language_info": {
   "codemirror_mode": {
    "name": "ipython",
    "version": 3
   },
   "file_extension": ".py",
   "mimetype": "text/x-python",
   "name": "python",
   "nbconvert_exporter": "python",
   "pygments_lexer": "ipython3",
   "version": "3.9.13"
  }
 },
 "nbformat": 4,
 "nbformat_minor": 4
}
