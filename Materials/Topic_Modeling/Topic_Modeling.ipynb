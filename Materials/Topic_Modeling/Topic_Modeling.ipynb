{
 "cells": [
  {
   "cell_type": "markdown",
   "metadata": {},
   "source": [
    "# <center> Topic Modeling </center>\n",
    "\n",
    "- This lecture is created based on \n",
    "    * Blei. D. (2012), \"Probabilistic Topic Models\", http://www.cs.columbia.edu/~blei/talks/Blei_ICML_2012.pdf\n",
    "    * http://videolectures.net/mlss09uk_blei_tm/\n",
    "    \n",
    "- An intuitive explanation of LDA: https://medium.com/@lettier/how-does-lda-work-ill-explain-using-emoji-108abf40fa7d"
   ]
  },
  {
   "cell_type": "markdown",
   "metadata": {},
   "source": [
    "## 1. Introduction\n",
    "\n",
    "- Topic modeling provides methods for automatically organizing, understanding, searching, and summarizing large electronic archives.\n",
    "  - Discover the hidden themes that pervade the collection.\n",
    "  - Annotate the documents according to those themes.\n",
    "  - Use annotations to organize, summarize, and search the texts.\n",
    "  \n",
    "<img src='topic_modeling.png' width='70%'>\n",
    "\n",
    "- Formal Definitions\n",
    "\n",
    "  - **Topics**: each topic is a `distribution over words` \n",
    "    - e.g. for topic \"Gentics\", $p('gene'~|~'Genetics')~=~0.04$, $p('dna'~|~'Genetics')=0.02$, ...\n",
    "    - e.g. for topic \"NeuroScience\", $p('brain'~|~'NeuroScience')~=~0.04$, $p('gene'~|~'NeuroScience')=0.001$, ...\n",
    "    - $K$ topics $\\theta_1, \\theta_2, ..., \\theta_K$, $N$ words $w_1, w_2, ..., w_N$ in corpus, we need to know  $p(w_i|\\theta_j)$ for $i \\in N$ and $j\\in K$ <br><br>\n",
    "    \n",
    "  - **Document ($d$)**: a `mixture of topics`\n",
    "    - e.g. for above document $d$, $p('Genetics'~|~d)=0.5$, $p('LifeScience'~|~d)=0.15$, ...\n",
    "    - In general, given document $d$ and topic $\\theta_j$, we need to know $p(\\theta_j~|~d)$, i.e. `topic proportion`\n",
    "    \n",
    "    \n",
    "- Topic models are also referred to as language models\n",
    "\n"
   ]
  },
  {
   "cell_type": "markdown",
   "metadata": {},
   "source": [
    "- Probabilities $p(w_i~|~\\theta_j)$ and $p(\\theta_j~|~d)$ are **hidden structures** to be discovered, a.k.a **latent variables**\n",
    "\n",
    "<img src='latent_structure.png' width='70%' style=\"float: left;\">\n",
    "  \n"
   ]
  },
  {
   "cell_type": "markdown",
   "metadata": {},
   "source": [
    "## 2. Latent Dirichlet Allocation (LDA)"
   ]
  },
  {
   "cell_type": "markdown",
   "metadata": {},
   "source": [
    "### 2.1 Dirichlet Distribution\n",
    "\n",
    "- **Dirichlet** $Dir(\\alpha)$ : is a probability distribution with parameter $\\alpha$ to `generate another distribution`, say $\\theta$ \n",
    "  - e.g. with $\\alpha = {α_1,α_2,α_3}$, $Dir(\\alpha)$ generates ${ \\theta_1,\\theta_2,\\theta_3}$, where $\\theta_1+\\theta_2+\\theta_3 =1$ . \n",
    "  - $E(\\theta_i) = \\frac{\\alpha_i}{\\sum_j{\\alpha_j}}$, i.e. the larger $\\alpha_i$, the larger the $\\theta_i$, or component $i$ is more likely to happen. \n",
    "  - In LDA, usually $α_1=α_2=α_3=...=\\frac{1}{K}$, where $K$ is the number of topics\n",
    "  - For details of Dirichlet function, check videos e.g. https://www.youtube.com/watch?v=nfBNOWv1pgE \n",
    "\n",
    "<img src='dirichlet.svg' width=\"25%\" height=\"15%\">\n"
   ]
  },
  {
   "cell_type": "markdown",
   "metadata": {},
   "source": [
    "- Visualize Dirichlet Distributions (code is taken from https://gist.github.com/tboggs/8778945)"
   ]
  },
  {
   "cell_type": "code",
   "execution_count": 1,
   "metadata": {},
   "outputs": [],
   "source": [
    "import numpy as np\n",
    "import matplotlib.pyplot as plt\n",
    "import matplotlib.tri as tri\n",
    "\n",
    "_corners = np.array([[0, 0], [1, 0], [0.5, 0.75**0.5]])\n",
    "_AREA = 0.5 * 1 * 0.75**0.5\n",
    "_triangle = tri.Triangulation(_corners[:, 0], _corners[:, 1])\n",
    "\n",
    "# For each corner of the triangle, the pair of other corners\n",
    "_pairs = [_corners[np.roll(range(3), -i)[1:]] for i in range(3)]\n",
    "# The area of the triangle formed by point xy and another pair or points\n",
    "tri_area = lambda xy, pair: 0.5 * np.linalg.norm(np.cross(*(pair - xy)))\n",
    "\n",
    "def xy2bc(xy, tol=1.e-4):\n",
    "    '''Converts 2D Cartesian coordinates to barycentric.\n",
    "    Arguments:\n",
    "        `xy`: A length-2 sequence containing the x and y value.\n",
    "    '''\n",
    "    coords = np.array([tri_area(xy, p) for p in _pairs]) / _AREA\n",
    "    return np.clip(coords, tol, 1.0 - tol)\n",
    "\n",
    "class Dirichlet(object):\n",
    "    def __init__(self, alpha):\n",
    "        '''Creates Dirichlet distribution with parameter `alpha`.'''\n",
    "        from math import gamma\n",
    "        from operator import mul\n",
    "        self._alpha = np.array(alpha)\n",
    "        self._coef = gamma(np.sum(self._alpha)) / \\\n",
    "                     np.multiply.reduce([gamma(a) for a in self._alpha])\n",
    "    def pdf(self, x):\n",
    "        '''Returns pdf value for `x`.'''\n",
    "        from operator import mul\n",
    "        return self._coef * np.multiply.reduce([xx ** (aa - 1)\n",
    "                                                for (xx, aa)in zip(x, self._alpha)])\n",
    "    def sample(self, N):\n",
    "        '''Generates a random sample of size `N`.'''\n",
    "        return np.random.dirichlet(self._alpha, N)\n",
    "\n",
    "def plot_points(X, barycentric=True, border=True, **kwargs):\n",
    "    '''Plots a set of points in the simplex.\n",
    "    Arguments:\n",
    "        `X` (ndarray): A 2xN array (if in Cartesian coords) or 3xN array\n",
    "                       (if in barycentric coords) of points to plot.\n",
    "        `barycentric` (bool): Indicates if `X` is in barycentric coords.\n",
    "        `border` (bool): If True, the simplex border is drawn.\n",
    "        kwargs: Keyword args passed on to `plt.plot`.\n",
    "    '''\n",
    "    if barycentric is True:\n",
    "        X = X.dot(_corners)\n",
    "    plt.plot(X[:, 0], X[:, 1], 'k.', ms=1, **kwargs)\n",
    "    plt.axis('equal')\n",
    "    plt.xlim(0, 1)\n",
    "    plt.ylim(0, 0.75**0.5)\n",
    "    plt.axis('off')\n",
    "    if border is True:\n",
    "        plt.triplot(_triangle, linewidth=1)"
   ]
  },
  {
   "cell_type": "markdown",
   "metadata": {},
   "source": [
    "$\\alpha = (1, 1, 1)$: $\\theta_1, \\theta_2,\\theta_3 $ are evenly distributed"
   ]
  },
  {
   "cell_type": "code",
   "execution_count": 2,
   "metadata": {},
   "outputs": [
    {
     "data": {
      "image/png": "[encoded data removed]",
      "text/plain": [
       "<Figure size 432x288 with 1 Axes>"
      ]
     },
     "metadata": {
      "needs_background": "light"
     },
     "output_type": "display_data"
    }
   ],
   "source": [
    "alpha = [1, 1, 1]\n",
    "dist = Dirichlet(alpha)\n",
    "plot_points(dist.sample(5000))"
   ]
  },
  {
   "cell_type": "markdown",
   "metadata": {},
   "source": [
    "$\\alpha = (1, 2, 3)$: The dense area moves awary from $\\theta_1$ "
   ]
  },
  {
   "cell_type": "code",
   "execution_count": 3,
   "metadata": {},
   "outputs": [
    {
     "data": {
      "image/png": "[encoded data removed]",
      "text/plain": [
       "<Figure size 432x288 with 1 Axes>"
      ]
     },
     "metadata": {
      "needs_background": "light"
     },
     "output_type": "display_data"
    }
   ],
   "source": [
    "alpha = [1, 2, 3]\n",
    "dist = Dirichlet(alpha)\n",
    "plot_points(dist.sample(5000))"
   ]
  },
  {
   "cell_type": "markdown",
   "metadata": {},
   "source": [
    "$\\alpha = (1/3, 1/3, 1/3)$: Points are densely distributed along the edge \n",
    "- `Sparsity`: Some component gets 0 probability"
   ]
  },
  {
   "cell_type": "code",
   "execution_count": 4,
   "metadata": {},
   "outputs": [
    {
     "data": {
      "image/png": "[encoded data removed]",
      "text/plain": [
       "<Figure size 432x288 with 1 Axes>"
      ]
     },
     "metadata": {
      "needs_background": "light"
     },
     "output_type": "display_data"
    }
   ],
   "source": [
    "alpha = [1/3, 1/3, 1/3]\n",
    "dist = Dirichlet(alpha)\n",
    "plot_points(dist.sample(5000))"
   ]
  },
  {
   "cell_type": "markdown",
   "metadata": {},
   "source": [
    "### 2.2 Generative Model\n",
    "- A generative model which generates a document $\\mathbf{w}=[w_1, w_2, ...]$ as follows:\n",
    "\n",
    "    - (1) Choose topic mixture $\\theta \\sim Dir~(\\alpha)$\n",
    "        - For example, assume three topics: `Genetics` $(\\theta_1)$, `NeuroScience`$(\\theta_2)$, `Computation`$(\\theta_3)$\n",
    "        - After sampling, $\\theta = [0.5, 0.3, 0.2]$, i.e., \n",
    "            - 50% of the content is about `Genetics`, \n",
    "            - 30% of the content is about `NeuroScience`,\n",
    "            - 20% of the content is about `Computation`\n",
    "        - Note the topic mixture is controled by $\\alpha$ in the `Dirichlet distribution`<br><br>\n",
    "    - (2) For each of the $N$ words:\n",
    "   <br><br>\n",
    "        - (a) Choose a topic assignment $z_n$. Let $p~(z_n = \\theta_j~|~\\theta)$ denote the probability of choosing $\\theta_j$.\n",
    "            - For the above example,\n",
    "                - $p~(z_n = Genetics~|~\\theta) = 0.5$, i.e. 50% chance that we'll sample a word from topic $\\theta_1$\n",
    "                - $p~(z_n = NeuroScience~|~\\theta) = 0.3$, i.e. 30% chance we'll sample a word from topic $\\theta_2$\n",
    "                - $p~(z_n = Computation~|~\\theta) = 0.2$, i.e. 20% chancee we'll sample a word from $\\theta_3$<b\n",
    "            - For example, when sampling by $p~(z_n = \\theta_j~|~\\theta)$, topic `Genetics` is chosen                                            <br><br>                                              \n",
    "        - (b) Choose a word $w_n$ from the chosen topic $\\theta_j$. Let $\\beta $ denote the word distribution per topic. \n",
    "            - $\\beta$ is a  $M \\times N$ matrix, i.e. the probability of each word belonging to a topic, where $M$ is the number of topics\n",
    "            - e.g. the given $z_n = Genetics$, $p~(w_n=gene | z_n = Genetics, \\beta) = 0.04$  \n",
    "            <img src='topic_modeling.png' width='70%' align='center'/>\n",
    "            <br><br>                                                                                                         \n",
    "        - (c) Combine Steps (a) and (b), we know:\n",
    "            - the likelihood of generating $w_n$ from `Genetics` topic is:  $$p~(z_n = Genetics~|~\\theta) * p~(w_n=gene | z_n = Genetics, \\beta)$$                                                                                                    \n",
    "            - the likelihood of generating $w_n$ over all possible topics is: $$p~(w_n~|~\\theta, \\beta) = \\sum_{z_n}{p~(z_n~|~\\theta) * p~(w_n~|~z_n, \\beta)}$$\n",
    "            - We tune parameter $\\beta$ and $\\theta$ such that $p~(w_n~|~\\theta, \\beta)$ approximates the actual probability of observing $p(w_n)$ in training documents.\n",
    "\n"
   ]
  },
  {
   "cell_type": "markdown",
   "metadata": {},
   "source": [
    "- This generative process can be visualized as follows:\n",
    "<img src = 'lda.png' width='50%'>\n",
    "\n",
    "- Then for an document $\\mathbf{w}=[w_1, w_2, ...]$, $p(\\mathbf{w} | \\alpha, \\beta)$ can be calculated as follows:\n",
    "<img src = 'formula.png' width='50%'>\n",
    "\n",
    "- We can tune $\\alpha, \\beta$ such that $p(\\mathbf{w} | \\alpha, \\beta)$ is maximized"
   ]
  },
  {
   "cell_type": "markdown",
   "metadata": {},
   "source": [
    "### 2.3. LDA Parameter Fitting\n",
    "- Common techniques to estimate these probabilities are Variational Bayesian inference, Collapsed Gibbs Sampling (See Blei's paper for details)\n",
    "  - Collapsed Gibbs Sampling: https://www.youtube.com/watch?v=u7l5hhmdc0M\n",
    "    1. Randomly assign each word in each sample to a topic \n",
    "    2. Iteratively update the assignment of each word\n",
    "\n",
    "<img src=\"gibbs_sampling.png\" width=\"50%\" style=\"float: left;\">\n",
    "\n"
   ]
  },
  {
   "cell_type": "markdown",
   "metadata": {},
   "source": [
    "- Toy Example:\n",
    "  - Assume you decide there are two topics T1 = `Genetics` and T2 = `Life Science`\n",
    "  - Assume we only have documents: d1 = `DNA gene discovery`, and d2 =`life organism evolve`\n",
    "\n",
    "(1). We try to assign each word in each document to a topic. \n",
    "- Initially, each word has equal probabity of assigning to each topic:\n",
    "\n",
    "<table align='left'>\n",
    "    <tr><th>word</th><th>topic</th></tr>\n",
    "    <tr><td span=2>d1:</td></tr>\n",
    "    <tr><td>DNA</td><td>T1</td></tr>\n",
    "    <tr><td>gene</td><td>T2</td></tr>\n",
    "    <tr><td>discovery</td><td>T2</td></tr>    \n",
    "    <tr><td span=2>d2:</td></tr>\n",
    "    <tr><td>life</td><td>T2</td></tr>\n",
    "    <tr><td>organism </td><td>T1</td></tr>\n",
    "    <tr><td>evolve </td><td>T2</td></tr>\n",
    "    \n",
    "</table>\n"
   ]
  },
  {
   "cell_type": "markdown",
   "metadata": {},
   "source": [
    "(2). Estimate probability $\\beta$ (word distribution per topic): \n",
    "- `p(DNA | T1) = p(organism | T1) = 1/2`: only two words in topic T1\n",
    "- `p(gene | T2) = p(discovery | T2) = p(life | T2) = p(evolve | T2) = ??` <br><br>\n",
    "   \n",
    "   \n",
    "(3). Estimate probability $\\theta$ (topic distribution per document):\n",
    "- `p(T1 | d1) = 1/3, p(T2 | d1) = 2/3`: 1/3 of words are in T1, and 2/3 of words are in T2\n",
    "- `p(T1 | d2) = ??, p(T2 | d2) = ??`\n",
    "    \n",
    "(4). Estimate probability $p(z_n | w_n, d)$: how likely a word $w_n$ belongs to a topic in document $d$. This probability depends on word distribution per topic and topic distribution per document:\n",
    "- $p~(z_n = T1 | w_n = DNA, d1) \\propto p~(z_n = T1, w_n = DNA | d1) \\propto p~( T1 | d1) * p~(DNA | T1) = 1/2 * 1/3 $\n",
    "- $p~(z_n = T2 | w_n = gene, d1) \\propto p~(z_n = T2, w_n = gene | d1) \\propto p~( T2 | d1) * p~(gene | T2) = ?? $\n",
    "...\n",
    "\n",
    "(5). Reassign each word by $p(z_n | w_n, d)$ \n",
    "\n",
    "(6) Repeat Steps (2)-(5) until converge"
   ]
  },
  {
   "cell_type": "markdown",
   "metadata": {},
   "source": [
    "### 2.3. Evaluate Topic Model - Perplexity\n",
    "- For a single document $d$ with $N_d$ words, denoted as $\\textbf{W}_d = \\{w_1, w_2, ..., w_{N_d}\\}$,  <br>\n",
    "$ \n",
    "   \\begin{align}\n",
    "  perplexity~(d) &= exp~({H(d)}),\\\\\n",
    "  H(d) &= - \\frac{ln~(p~(\\textbf{W}_d))}{N_d}\\\\\n",
    "  \\end{align}  \n",
    "$\n",
    "- $p(\\textbf{W}_d)$, the probability of seeing a document $d$, can be calculated based on:\n",
    "   - word distribution per topic, i.e. $p~(w_i~|~\\theta_j)$, and \n",
    "   - topic mixture, i.e. $p~(\\theta_j~|~d)$\n",
    "- For a test set of D with M documents <br>\n",
    "$ \n",
    "   \\begin{align}\n",
    "   perplexity~(d) &= exp~({H(D)}), \\\\\n",
    "   H(D) &= - \\frac{\\sum_{d \\in D} {ln~(p~(\\textbf{W}_d)})}{\\sum_{d \\in D}{N_d}} \n",
    "   \\end{align} \n",
    "   $\n",
    "- Intutition: \n",
    "  - A lower perplexity score indicates better generalization performance\n",
    "  - Minimizing H(d) is equivalent to maximizing log likelihood\n",
    "- To evaluate a topic model, calcuate perplexity on **testing dataset** (i.e. evaluating how generaalized the model is)\n",
    "- Note: if you have some labeled data, you should also conduct **external evaluation**, i.e. \n",
    "  - map each topic to a labeled class, \n",
    "  - compute precision/recall from the labeled data"
   ]
  },
  {
   "cell_type": "markdown",
   "metadata": {},
   "source": [
    "## 3. Experiement with LDA\n",
    "- A few libraries available for LDA: gensim, lda, sklearn\n",
    "- We use sklearn and gensim here "
   ]
  },
  {
   "cell_type": "code",
   "execution_count": 1,
   "metadata": {},
   "outputs": [],
   "source": [
    "from IPython.core.interactiveshell import InteractiveShell\n",
    "InteractiveShell.ast_node_interactivity = \"all\"\n",
    "import pandas as pd"
   ]
  },
  {
   "cell_type": "code",
   "execution_count": null,
   "metadata": {},
   "outputs": [],
   "source": [
    "# Exercise 3.1. Load yahoo multi-label data set\n",
    "import json\n",
    "from numpy.random import shuffle\n",
    "\n",
    "data=json.load(open('../../dataset/ydata.json','r'))\n",
    "\n",
    "# shuffle the data\n",
    "shuffle(data)\n",
    "\n",
    "text,label=zip(*data)\n",
    "text=list(text)\n",
    "label=list(label)\n",
    "\n",
    "print(text[0])\n",
    "print(label[0])"
   ]
  },
  {
   "cell_type": "code",
   "execution_count": null,
   "metadata": {},
   "outputs": [],
   "source": [
    "# Exercise 3.2. Preprocessing - Create Term Frequency Matrix\n",
    "from sklearn.feature_extraction.text import CountVectorizer\n",
    "from sklearn.model_selection import train_test_split\n",
    "\n",
    "# Let's remove domain specific stop words like 'said'\n",
    "from nltk.corpus import stopwords\n",
    "stop = list(stopwords.words('english')) + ['said']\n",
    "\n",
    "# LDA can only use raw term counts for LDA \n",
    "tf_vectorizer = CountVectorizer(min_df=5, stop_words=stop)\n",
    "tf = tf_vectorizer.fit_transform(text)\n",
    "\n",
    "# each feature is a word (bag of words)\n",
    "# get_feature_names() gives all words\n",
    "tf_feature_names = tf_vectorizer.get_feature_names()\n",
    "\n",
    "print(tf_feature_names[0:10])\n",
    "print(tf.shape)\n",
    "\n",
    "# split dataset into train (90%) and test sets (10%)\n",
    "# the test sets will be used to evaluate proplexity of topic modeling\n",
    "X_train, X_test = train_test_split(\\\n",
    "                tf, test_size=0.1, random_state=0)"
   ]
  },
  {
   "cell_type": "code",
   "execution_count": null,
   "metadata": {},
   "outputs": [],
   "source": [
    "# Exercise 3.3. Train LDA model\n",
    "from sklearn.decomposition import LatentDirichletAllocation\n",
    "\n",
    "num_topics = 4\n",
    "\n",
    "# Run LDA. For details, check\n",
    "# http://scikit-learn.org/stable/modules/generated/sklearn.decomposition.LatentDirichletAllocation.html#sklearn.decomposition.LatentDirichletAllocation.perplexity\n",
    "\n",
    "# max_iter control the number of iterations \n",
    "# evaluate_every determines how often the perplexity is calculated\n",
    "# n_jobs is the number of parallel threads\n",
    "lda = LatentDirichletAllocation(n_components=num_topics, \\\n",
    "                                max_iter=30,verbose=1,\n",
    "                                evaluate_every=1, n_jobs=1,\n",
    "                                random_state=0).fit(X_train)"
   ]
  },
  {
   "cell_type": "code",
   "execution_count": null,
   "metadata": {},
   "outputs": [],
   "source": [
    "# Exercise 3.4. Check topic and word distribution per topic\n",
    "\n",
    "num_top_words=20\n",
    "\n",
    "# lda.components_ returns a KxN matrix\n",
    "# for word distribution in each topic.\n",
    "# Each row consists of \n",
    "# pseudo-counts of each word that represents \n",
    "# the number of times word j was assigned to topic i. \n",
    "# It can also be viewed as distribution over the words \n",
    "# for each topic after normalization\n",
    "\n",
    "for topic_idx, topic in enumerate(lda.components_):\n",
    "    print (\"Topic %d:\" % (topic_idx))\n",
    "    # print out top 20 words per topic \n",
    "    words=[(tf_feature_names[i],'%.2f'%topic[i]) \\\n",
    "           for i in topic.argsort()[::-1][0:num_top_words]]\n",
    "    print(words)\n",
    "    print(\"\\n\")"
   ]
  },
  {
   "cell_type": "code",
   "execution_count": null,
   "metadata": {},
   "outputs": [],
   "source": [
    "# Visualize topics \n",
    "\n",
    "import matplotlib.pyplot as plt\n",
    "from wordcloud import WordCloud\n",
    "import math\n",
    "\n",
    "num_top_words=50\n",
    "f, axarr = plt.subplots(2, 2, figsize=(8, 8));\n",
    "\n",
    "for topic_idx, topic in enumerate(lda.components_):\n",
    "    # create a dataframe with two columns (word, weight) for each topic\n",
    "    \n",
    "    # create a word:count dictionary\n",
    "    f={tf_feature_names[i]:topic[i] for i in topic.argsort()[::-1][0:num_top_words]}\n",
    "    \n",
    "    # generate wordcloud in subplots\n",
    "    wordcloud = WordCloud(width=480, height=450, margin=0, background_color=\"black\");\n",
    "    _ = wordcloud.generate_from_frequencies(frequencies=f);\n",
    "    \n",
    "    _ = axarr[math.floor(topic_idx/2), topic_idx%2].imshow(wordcloud, interpolation=\"bilinear\");\n",
    "    _ = axarr[math.floor(topic_idx/2), topic_idx%2].set_title(\"Topic: \"+str(topic_idx));\n",
    "    _ = axarr[math.floor(topic_idx/2), topic_idx%2].axis('off')\n",
    "\n",
    "plt.tight_layout()\n",
    "plt.show()\n"
   ]
  },
  {
   "cell_type": "code",
   "execution_count": 10,
   "metadata": {},
   "outputs": [
    {
     "name": "stdout",
     "output_type": "stream",
     "text": [
      "[[3.328e-03 1.204e-01 3.240e-03 8.730e-01]\n",
      " [3.276e-01 3.499e-04 3.750e-01 2.971e-01]\n",
      " [8.740e-04 1.202e-01 8.557e-01 2.328e-02]\n",
      " [2.238e-02 9.596e-01 7.037e-04 1.727e-02]\n",
      " [7.340e-04 7.244e-01 1.784e-01 9.641e-02]\n",
      " [5.733e-04 4.328e-02 9.555e-01 6.051e-04]]\n"
     ]
    }
   ],
   "source": [
    "# Exercise 3.5. Assign documents to topic\n",
    "import numpy as np\n",
    "np.set_printoptions(precision=3)\n",
    "\n",
    "# Generate topic assignment of each document\n",
    "topic_assign=lda.transform(X_train)\n",
    "\n",
    "# Show topic mixture for the first 6 documents\n",
    "print(topic_assign[0:6])\n"
   ]
  },
  {
   "cell_type": "markdown",
   "metadata": {},
   "source": [
    "Questions:\n",
    "- How to assign topics to each document?\n",
    "- If your test data has been labeled, and you want to do external evaluation, how to calulate precision and recall?"
   ]
  },
  {
   "cell_type": "code",
   "execution_count": null,
   "metadata": {},
   "outputs": [],
   "source": [
    "# Exercise 3.6. Evaluate topic models by perplexity of test data\n",
    "\n",
    "perplexity=lda.perplexity(X_test)\n",
    "print(\"perplexity: {:.2f}\".format(perplexity))\n"
   ]
  },
  {
   "cell_type": "markdown",
   "metadata": {},
   "source": [
    "## 4. Find the number of topics ($K$)\n",
    "- There are no \"golden\" rules to find K.\n",
    "- Perplexity may be one way for you to find the number of topics\n",
    "    - Typically, the best number of topics should be around the **lowest perplexity**\n",
    "- However, in practice, a few factors need to be considered:\n",
    "  - It is usually difficult for human to understand or visulaize a big number of topics\n",
    "  - You may manually scan the data to figure out possible topics in the data, but these topics may not be correlated with the hidden structure discovered by LDA\n",
    "  - Usually, after LDA, we need manually inspect each discovered topic, merge or trim topics to get semantically coherent but distinguishable topics"
   ]
  },
  {
   "cell_type": "code",
   "execution_count": 12,
   "metadata": {},
   "outputs": [
    {
     "name": "stdout",
     "output_type": "stream",
     "text": [
      "2 5475.6449412602215\n",
      "3 5557.317581743257\n",
      "4 5814.000692503835\n",
      "5 6091.439134434733\n",
      "6 6195.759175336551\n",
      "7 6375.895274864438\n",
      "8 6446.032295411867\n",
      "9 6488.921761477008\n"
     ]
    }
   ],
   "source": [
    "# Exercise 4.1 How to find the best number of topics?\n",
    "# Vary variable num_topics, e.g. set it to 2, 3, 5, ...\n",
    "# For each value, train LDA model, \n",
    "# calculate perplexity on the test data\n",
    "\n",
    "import numpy as np\n",
    "import matplotlib.pyplot as plt\n",
    "\n",
    "result=[]\n",
    "for num_topics in range(2,10):\n",
    "    lda = LatentDirichletAllocation(n_components=num_topics, \\\n",
    "                                learning_method='online', \\\n",
    "                                max_iter=30,verbose=0, n_jobs=1,\n",
    "                                random_state=0).fit(X_train)\n",
    "    p=lda.perplexity(X_test)\n",
    "    result.append([num_topics,p])\n",
    "    print(num_topics, p)\n",
    "\n"
   ]
  },
  {
   "cell_type": "code",
   "execution_count": 13,
   "metadata": {},
   "outputs": [
    {
     "data": {
      "image/png": "[encoded data removed]",
      "text/plain": [
       "<Figure size 432x288 with 1 Axes>"
      ]
     },
     "metadata": {
      "needs_background": "light"
     },
     "output_type": "display_data"
    }
   ],
   "source": [
    "import pandas as pd\n",
    "pd.DataFrame(result, columns=[\"K\", \"Perlexity\"]).plot.line(x='K',y=\"Perlexity\");\n",
    "plt.show();"
   ]
  },
  {
   "cell_type": "markdown",
   "metadata": {},
   "source": [
    "Discussion: With LDA, how to do internal evaluation?\n",
    "- cluster separation\n",
    "- cluster coherence"
   ]
  },
  {
   "cell_type": "markdown",
   "metadata": {},
   "source": [
    "## 5. LDA Gensim Package"
   ]
  },
  {
   "cell_type": "code",
   "execution_count": null,
   "metadata": {},
   "outputs": [],
   "source": [
    "# 5.1. Create LDA model using the same TF matrix generated from sklearn\n",
    "\n",
    "import gensim\n",
    "from gensim import corpora\n",
    "\n",
    "# A corpus is TF matrix in the list format, e.g.:\n",
    "# [[(0, 1), (1,2), (4, 1), ...], [...], ...]\n",
    "# which shows the first document has words with id=0,1,4\n",
    "# and the count of word 0 is 1, word 1 is 2, ...\n",
    "\n",
    "# convert the gensim corpus from the sparse tf matrix\n",
    "corpus = gensim.matutils.Sparse2Corpus(X_train, \\\n",
    "                            documents_columns=False)\n",
    "\n",
    "# create the mapping between id and words\n",
    "id2word={idx:w for idx, w in \\\n",
    "         enumerate(tf_vectorizer.get_feature_names())}\n",
    "\n",
    "# create a gensim dictionary from the corpus\n",
    "# a dictionary contains the frequency of each words \n",
    "# the mapping between ids and words\n",
    "dictionary = corpora.Dictionary.from_corpus(corpus, \\\n",
    "                            id2word=id2word)\n",
    "\n"
   ]
  },
  {
   "cell_type": "code",
   "execution_count": null,
   "metadata": {},
   "outputs": [],
   "source": [
    "# 6.2. Train LDA model\n",
    "\n",
    "NUM_TOPICS = 4\n",
    "\n",
    "# for detailed parameters, check\n",
    "#https://radimrehurek.com/gensim/models/ldamodel.html\n",
    "\n",
    "ldamodel = gensim.models.\\\n",
    "ldamodel.LdaModel(corpus, num_topics = NUM_TOPICS, \\\n",
    "                            id2word=id2word, \\\n",
    "                            iterations=30)\n",
    "\n",
    "topics = ldamodel.print_topics(num_words=20)\n",
    "for topic in topics:\n",
    "    print(topic)\n",
    "    print(\"\\n\")\n",
    "    \n",
    "# You may remove domain-specific stop words like 'said','company','com'. This may improve topics"
   ]
  },
  {
   "cell_type": "code",
   "execution_count": null,
   "metadata": {},
   "outputs": [],
   "source": [
    "import pyLDAvis.gensim_models as gensimvis\n",
    "\n",
    "pyLDAvis.enable_notebook()"
   ]
  },
  {
   "cell_type": "code",
   "execution_count": null,
   "metadata": {},
   "outputs": [],
   "source": [
    "# 6.3. visualize topics\n",
    "\n",
    "lda_display = gensimvis.prepare(ldamodel, corpus, dictionary, sort_topics=True, R=20)\n",
    "pyLDAvis.display(lda_display)"
   ]
  },
  {
   "cell_type": "code",
   "execution_count": null,
   "metadata": {},
   "outputs": [],
   "source": [
    "# 6.4. Test unseen documents\n",
    "\n",
    "test_corpus = gensim.matutils.Sparse2Corpus(X_test, \\\n",
    "                    documents_columns=False)\n",
    "predict = ldamodel.get_document_topics(test_corpus)\n",
    "list(predict)[0:5]"
   ]
  },
  {
   "cell_type": "code",
   "execution_count": null,
   "metadata": {},
   "outputs": [],
   "source": []
  }
 ],
 "metadata": {
  "kernelspec": {
   "display_name": "Python 3 (ipykernel)",
   "language": "python",
   "name": "python3"
  },
  "language_info": {
   "codemirror_mode": {
    "name": "ipython",
    "version": 3
   },
   "file_extension": ".py",
   "mimetype": "text/x-python",
   "name": "python",
   "nbconvert_exporter": "python",
   "pygments_lexer": "ipython3",
   "version": "3.9.13"
  }
 },
 "nbformat": 4,
 "nbformat_minor": 2
}
